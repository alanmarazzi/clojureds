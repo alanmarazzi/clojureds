{
 "cells": [
  {
   "cell_type": "code",
   "execution_count": 1,
   "metadata": {
    "scrolled": true
   },
   "outputs": [],
   "source": [
    "(ns ch7.nb\n",
    "    (:require [clojupyter.misc.helper :as helper]\n",
    "              [clojupyter.misc.display :as display]\n",
    "              [clojure.java.io :as io]\n",
    "              [incanter.charts :as c]\n",
    "              [incanter.core :as i]\n",
    "              [incanter.datasets :as d]\n",
    "              [incanter.stats :as s]\n",
    "              [incanter.io :as iio]\n",
    "              [clojure.string :as string]\n",
    "              [medley.core :refer [map-vals]]\n",
    "              [clojure.string :as str]\n",
    "              [sparkling.conf :as conf]\n",
    "              [sparkling.core :as spark]\n",
    "              [sparkling.debug :as s-dbg]\n",
    "              [sparkling.destructuring :as s-de]\n",
    "              [sparkling.kryo :as k]\n",
    "              [sparkling.scalaInterop :as scala])\n",
    "    (:import [org.apache.mahout.cf.taste.eval RecommenderBuilder]\n",
    "             [org.apache.mahout.cf.taste.impl.eval \n",
    "                GenericRecommenderIRStatsEvaluator \n",
    "                RMSRecommenderEvaluator]\n",
    "             [org.apache.mahout.cf.taste.impl.model GenericBooleanPrefDataModel]\n",
    "             [org.apache.mahout.cf.taste.impl.model.file FileDataModel]\n",
    "             [org.apache.mahout.cf.taste.impl.neighborhood NearestNUserNeighborhood]\n",
    "             [org.apache.mahout.cf.taste.impl.recommender GenericBooleanPrefUserBasedRecommender \n",
    "                GenericUserBasedRecommender]\n",
    "             [org.apache.mahout.cf.taste.impl.similarity EuclideanDistanceSimilarity \n",
    "                TanimotoCoefficientSimilarity \n",
    "                SpearmanCorrelationSimilarity \n",
    "                PearsonCorrelationSimilarity]\n",
    "             [com.google.common.hash Hashing]\n",
    "             [org.apache.spark.api.java JavaRDD]\n",
    "             [org.apache.spark.mllib.linalg Vector SparseVector]\n",
    "             [org.apache.spark.mllib.linalg.distributed RowMatrix]\n",
    "             [org.apache.spark.mllib.recommendation ALS Rating]))"
   ]
  },
  {
   "cell_type": "markdown",
   "metadata": {},
   "source": [
    "# Data inspection"
   ]
  },
  {
   "cell_type": "code",
   "execution_count": 2,
   "metadata": {},
   "outputs": [
    {
     "data": {
      "text/plain": [
       "\"1\\t1\\t5\\t874965758\""
      ]
     },
     "execution_count": 2,
     "metadata": {},
     "output_type": "execute_result"
    }
   ],
   "source": [
    "(->> (io/reader \"data/ml-100k/ua.base\")\n",
    "     (line-seq)\n",
    "     (first))"
   ]
  },
  {
   "cell_type": "code",
   "execution_count": 3,
   "metadata": {},
   "outputs": [
    {
     "data": {
      "text/plain": [
       "\"1|Toy Story (1995)|01-Jan-1995||http://us.imdb.com/M/title-exact?Toy%20Story%20(1995)|0|0|0|1|1|1|0|0|0|0|0|0|0|0|0|0|0|0|0\""
      ]
     },
     "execution_count": 3,
     "metadata": {},
     "output_type": "execute_result"
    }
   ],
   "source": [
    "(->> (io/reader \"data/ml-100k/u.item\")\n",
    "     (io/reader)\n",
    "     (line-seq)\n",
    "     (first))"
   ]
  },
  {
   "cell_type": "markdown",
   "metadata": {},
   "source": [
    "# Data parsing"
   ]
  },
  {
   "cell_type": "code",
   "execution_count": 2,
   "metadata": {},
   "outputs": [
    {
     "data": {
      "text/plain": [
       "#'ch7.nb/load-ratings"
      ]
     },
     "execution_count": 2,
     "metadata": {},
     "output_type": "execute_result"
    }
   ],
   "source": [
    "(defn to-long\n",
    "    [s]\n",
    "    (Long/parseLong s))\n",
    "\n",
    "(defn line->rating\n",
    "    [line]\n",
    "    (->> (string/split line #\"\\t\")\n",
    "         (map to-long)\n",
    "         (zipmap [:user :item :rating])))\n",
    "\n",
    "(defn load-ratings\n",
    "    [file]\n",
    "    (with-open [rdr (io/reader (str \"data/ml-100k/\" file))]\n",
    "        (->> (line-seq rdr)\n",
    "             (map line->rating)\n",
    "             (into []))))"
   ]
  },
  {
   "cell_type": "code",
   "execution_count": 5,
   "metadata": {},
   "outputs": [
    {
     "data": {
      "text/plain": [
       "{:user 1, :item 1, :rating 5}"
      ]
     },
     "execution_count": 5,
     "metadata": {},
     "output_type": "execute_result"
    }
   ],
   "source": [
    "(->> (load-ratings \"ua.base\")\n",
    "     (first))"
   ]
  },
  {
   "cell_type": "code",
   "execution_count": 12,
   "metadata": {},
   "outputs": [
    {
     "data": {
      "text/plain": [
       "#'ch7.nb/load-items"
      ]
     },
     "execution_count": 12,
     "metadata": {},
     "output_type": "execute_result"
    }
   ],
   "source": [
    "(defn line->item-tuple\n",
    "    [line]\n",
    "    (let [[id name] (string/split line #\"\\|\")]\n",
    "        (vector (to-long id) name)))\n",
    "\n",
    "(defn load-items\n",
    "    [path]\n",
    "    (with-open [rdr (io/reader (str \"data/ml-100k/\" path))]\n",
    "        (->> (line-seq rdr)\n",
    "             (map line->item-tuple)\n",
    "             (into {}))))"
   ]
  },
  {
   "cell_type": "code",
   "execution_count": 7,
   "metadata": {},
   "outputs": [
    {
     "data": {
      "text/plain": [
       "\"Toy Story (1995)\""
      ]
     },
     "execution_count": 7,
     "metadata": {},
     "output_type": "execute_result"
    }
   ],
   "source": [
    "(-> (load-items \"u.item\")\n",
    "    (get 1))"
   ]
  },
  {
   "cell_type": "markdown",
   "metadata": {},
   "source": [
    "# Recommender Systems\n",
    "\n",
    "## Slope one\n",
    "\n",
    "**Slope One** recommenders are a family of algos, we'll use the weighted version [Original paper](http://lemire.me/fr/abstracts/SDM2005.html).\n",
    "\n",
    "### Difference\n",
    "\n",
    "We have to start by calculating the average difference between every item"
   ]
  },
  {
   "cell_type": "code",
   "execution_count": 8,
   "metadata": {},
   "outputs": [
    {
     "data": {
      "text/plain": [
       "#'ch7.nb/item-differences"
      ]
     },
     "execution_count": 8,
     "metadata": {},
     "output_type": "execute_result"
    }
   ],
   "source": [
    "(defn conj-item-difference\n",
    "    [dict [i j]]\n",
    "    (let [difference (- (:rating j) (:rating i))]\n",
    "        (update-in dict [(:item i) (:item j)] conj difference)))\n",
    "\n",
    "(defn collect-item-differences\n",
    "    [dict items]\n",
    "    (reduce conj-item-difference dict\n",
    "            (for [i items\n",
    "                  j items\n",
    "                  :when (not= i j)]\n",
    "                [i j])))\n",
    "\n",
    "(defn item-differences\n",
    "    [user-ratings]\n",
    "    (reduce collect-item-differences {} user-ratings))"
   ]
  },
  {
   "cell_type": "code",
   "execution_count": 9,
   "metadata": {
    "scrolled": true
   },
   "outputs": [
    {
     "data": {
      "text/plain": [
       "[893 {558 (-2 4), 453 (-1), 637 (-1), 519 (2), 1244 (0), 1097 (3), 357 (-1 0 3), 716 (1), 275 (1 0), 530 (2), 929 (0), 789 (-2 2 3), 586 (0 0), 410 (1 -2 4), 433 (1), 765 (-1), 521 (4), 451 (0 -2), 291 (1 2), 443 (0 1 4), 798 (-1), 779 (0 0), 249 (0 3), 638 (0), 299 (0 0), 121 (1 0 2 3), 287 (-2 2 0), 65 (-1), 702 (3), 70 (0 0 3 -1), 949 (0 0), 218 (-2), 1070 (4), 812 (0 -1), 62 (1 2), 1185 (0), 774 (1 -2), 475 (0 4), 497 (1 2), 1009 (2), 891 (-2), 164 (0), 1040 (0 -1), 282 (1 1 3 1), 769 (1 0), 799 (1), 273 (0 -1 0 4), 1441 (0 0), 186 (0), 430 (2), 529 (1), 898 (3 -2 -2 -2 1), 370 (-2), 834 (-2), 233 (0 1), 298 (1 4), 188 (1 4), 240 (-1 -1), 110 (-1 0), 982 (0), 620 (1 0), 311 (1 0), 931 (0), 882 (-2 0), 1409 (1), 128 (0 -2), 399 (1), 1178 (0), 989 (-2), 377 (0 -2), 468 (1), 259 (-1 1 1 0 1), 210 (1 0), 229 (1), 153 (0 1), 621 (1), 670 (0), 977 (1 -1 -1), 343 (-2 -2 3 2), 887 (0 2 4), 472 (0 2 0), 7 (1 -1 4), 894 (-2), 59 (1 3), 1234 (-1 -2), 934 (0), 473 (0 1), 1010 (4), 86 (-1 -2 0), 756 (1 0 -1), 830 (-2), 613 (1 1), 491 (1), 154 (-1 2), 20 (-2), 224 (1 4), 355 (0 0), 610 (-1), 806 (2 3), 1212 (-1), 571 (0), 466 (4), 72 (1 1), 888 (-1), 463 (1 2 3), 851 (2), 770 (1), 814 (2), 859 (-2), 58 (0 1 4), 964 (-1), 980 (-2), 1001 (1), 205 (-1), 555 (0), 552 (-1), 60 (1 3), 835 (0), 459 (1), 175 (1), 322 (-2 1 0 0 -1), 510 (2), 662 (2 2), 27 (1 0), 352 (-2 -2), 493 (2), 899 (-2), 416 (0), 777 (-2), 694 (1), 1 (0 0 3), 631 (0 2), 854 (-2 4), 69 (1 1 4), 24 (0 -2 3), 901 (-2), 547 (-2 3), 788 (-2), 385 (1 0), 988 (-2 0), 135 (-2 2 4 -2), 1011 (-3 3), 773 (-2), 752 (-2 3), 354 (1 0 -1 0 3), 884 (-1), 55 (1 3), 568 (1 0 4), 797 (0 2), 688 (-2 0), 763 (2 -1 -2 4), 269 (1 1 -1 3), 1270 (0), 676 (0), 1187 (3), 448 (-2), 527 (0 2 4), 206 (0), 165 (0), 715 (-2 -2), 387 (0 1), 652 (0 2 3), 683 (-2 1 -2 0), 85 (0), 721 (-1), 862 (0), 615 (1), 681 (0 -1 0), 225 (-1), 1180 (1), 865 (2), 39 (0), 805 (-1 1), 1169 (2), 274 (1 -1 0), 88 (0 1), 217 (-2), 682 (3 -2 -1 -2 3 3), 1337 (0), 508 (0 4), 149 (3 -2), 415 (1), 239 (1 1 1), 478 (1), 878 (-2), 157 (0 4 1), 345 (1 3), 1401 (-2), 300 (2 1 1 -2 0 1), 1039 (0 3 2), 4 (1 2 3), 550 (0 1), 204 (1 2), 1381 (0), 470 (1 1), 646 (1), 77 (0), 197 (1 4), 405 (1 0 -1 3), 897 (-2), 776 (-1), 940 (-1), 755 (0 0), 902 (-1 0), 518 (1 4 -2), 232 (0), 260 (-2 3), 823 (0 2 0), 1319 (0), 319 (1 3), 534 (4), 222 (1 0 0 1), 603 (1 4), 1617 (-2), 1226 (3), 293 (4), 95 (1 2 3), 450 (0), 329 (1 -1 0), 144 (0 1 4), 504 (2), 819 (0 -2), 818 (0), 505 (0), 723 (-1), 1071 (3), 1008 (3), 176 (0 4), 863 (1), 471 (-2 3), 349 (-1 0 -2 -1 1), 512 (4), 710 (1), 1058 (1 0), 192 (4), 54 (1 0), 92 (0 4 -2), 221 (4 -1), 141 (-1 -1), 502 (2), 871 (-1 0 -1 -1), 801 (0), 307 (1 1 0 -1 2 0 3), 758 (-2), 290 (0 -2 1), 627 (1), 517 (2), 361 (-2), 264 (0 1 1 1), 137 (2 4), 356 (0 1), 728 (0), 678 (-1 0 1 0 1), 327 (1 0 3), 234 (2 4), 856 (2), 817 (-2), 1017 (3), 353 (-1 1), 15 (4 1), 48 (-1 2 4), 759 (-1), 242 (3 -2 -1 4), 832 (1), 50 (2 2), 917 (1 1), 251 (4), 394 (2 -1), 116 (2 3), 585 (-1 1), 437 (-2), 516 (2), 1062 (-2), 930 (0 -1), 687 (0 -2 2 -1), 848 (2), 995 (-2), 709 (1), 99 (0 1 4), 1469 (0), 540 (0 0), 749 (1 0), 479 (1 3), 890 (1 -2 -2 0), 1531 (1), 630 (1 -1), 916 (3 1), 815 (1 1 2), 281 (1 0 3), 402 (1 2), 669 (-2), 1197 (0), 781 (1 0), 740 (-2), 1440 (0), 1012 (4), 975 (0 3), 429 (2), 458 (2), 21 (0 0), 952 (3), 875 (-2 3), 31 (1), 32 (1 4), 811 (2), 827 (0), 398 (1 -1), 136 (2), 1435 (0), 691 (1 1), 847 (1 4), 825 (1 -2 0), 139 (1), 506 (2), 396 (-2 0), 460 (2), 1281 (2), 483 (1 2 4), 589 (0 4), 581 (-2), 932 (0), 174 (1 4), 578 (1 0), 855 (1), 331 (0 0 0 2), 1176 (-2 1), 363 (0 0 0), 284 (-1 0), 208 (2), 305 (1 3), 796 (0), 708 (-1), 182 (2 4), 657 (1 3), 514 (2 4), 731 (0 1), 619 (0 0), 985 (3), 485 (-1 -2), 193 (2 4 1), 685 (0 0 2 1), 804 (-1), 869 (0), 836 (1), 785 (0 0), 635 (-2), 442 (-2), 1073 (4), 561 (0 -2), 656 (2), 241 (1 0), 314 (-2), 782 (0 1), 226 (1), 235 (-1 2), 1265 (0), 672 (0 -2), 420 (0 1), 418 (0 -1), 262 (1 4), 1016 (2 3), 263 (0 2 -1 0), 304 (-2 1 1), 401 (-2), 673 (0), 40 (-2 -1), 129 (4), 729 (1 0), 1208 (-2), 467 (2 4), 445 (1), 317 (1 2), 1091 (-1), 1028 (0 -1), 294 (1 1 1 -1 -1 -1 2 1), 91 (-1), 1044 (1 0), 810 (1 2), 364 (-1), 880 (0 0 0), 1184 (4), 515 (-1), 412 (0), 553 (0 -1 1), 974 (0), 1376 (-2), 341 (-1), 117 (1 0 0 4), 1000 (0), 1095 (-1), 1183 (0), 665 (-1), 523 (1), 172 (2 2 4), 601 (1), 108 (-1), 358 (-2 0 0), 308 (-2 0), 908 (-2 -2 0), 531 (0 4), 1085 (2 -2), 1239 (0), 223 (1 2 4 0), 419 (1 0), 365 (0 0), 1313 (0), 944 (1), 181 (1 2 2), 417 (0 -1), 1082 (2), 278 (1 -1), 56 (-1 4), 33 (0 2), 13 (2 4), 1043 (0), 867 (2), 22 (1 1 4 2), 380 (-1 1), 257 (1 3), 1061 (0), 338 (0 -1 -2 1), 500 (1), 909 (2), 168 (1 1 4), 833 (1 -1 3), 496 (2), 1129 (4), 347 (1 1 1 -2 2 3), 501 (0 2 3), 596 (1 0), 872 (-2 0), 792 (-2 2), 90 (-1 0), 237 (1 2 3 0), 826 (0 -1 2), 292 (2 0), 109 (0 1 3), 216 (0 3), 191 (0 0 4), 498 (1), 1224 (0), 829 (0), 761 (1 1), 525 (2), 367 (0 0 3), 143 (2 -2), 742 (1 0 3), 178 (1 4), 328 (1 2 0 0 2 0 0 1), 391 (0 0), 990 (2), 167 (1), 36 (0), 1215 (0), 41 (1), 474 (1), 187 (2 4), 551 (-2), 1356 (3), 996 (0), 528 (0), 971 (3), 376 (1), 195 (0 0 3), 889 (0), 316 (2 2), 668 (-2), 428 (2), 303 (-1 1 1 4), 671 (0), 794 (1 1), 1182 (0), 905 (0 0 -1), 560 (0), 565 (-2), 310 (2 2 1 2 1 0 1 0), 366 (1 0), 118 (1 0 1 2), 522 (2 4), 150 (2 4), 886 (2 2), 313 (2 2 1 1 1 2 2 4 2), 384 (0 -1), 567 (-2), 238 (0 4), 846 (-1 1), 962 (-1), 1127 (-1 0), 845 (1 -1 0 3), 196 (1 1 4 1), 162 (1), 393 (0 0), 184 (1 -2 4), 219 (-2), 999 (1), 461 (3), 1032 (0), 89 (0 1 3), 100 (2 -2 2 4), 604 (2), 477 (0 1), 844 (-2 3), 541 (0 -2), 351 (-2 -2), 243 (0 1 0 1 0 -1), 790 (1 -1), 963 (4), 1053 (0 0), 629 (-2), 873 (0 -2), 1377 (2), 122 (-2 3), 43 (0), 1067 (4), 231 (0), 61 (1 3), 654 (2 4), 883 (0), 413 (-2), 29 (1 -1), 784 (-2), 800 (-2), 151 (-2 3), 369 (0), 348 (-1), 575 (-1), 693 (0), 739 (0 1), 1539 (-1), 258 (1 1 1 0 4 0), 250 (1 3), 674 (0), 539 (0 -2), 301 (2 1 -2 0 0), 838 (-2), 424 (-2), 93 (3), 684 (1 2), 951 (0), 1407 (0), 573 (0), 408 (4), 563 (-2), 850 (1), 866 (0 0), 111 (0 2), 997 (-2), 689 (0 -1 1 0), 28 (1 2 3 1), 456 (0), 374 (0), 737 (-1 1), 548 (0), 538 (2 -1 0 -2), 895 (1 1 -2 2 0 2), 411 (-1 -1 1), 134 (-1 4), 1314 (0), 64 (1 2 4), 623 (0), 465 (1), 1228 (0), 816 (-2), 334 (-3 -2 2), 323 (-1 -1 0 2 0 0), 189 (1 4), 280 (1 -1 1 1), 198 (4), 155 (-1), 295 (3), 808 (1 -1), 248 (1 3), 285 (2 4), 507 (-1 -2), 227 (1 2), 724 (0 0), 476 (0 0 -1), 1468 (1), 941 (1), 911 (-1), 853 (-2 4), 494 (1 1), 842 (1 -1), 1105 (-2), 170 (2 4), 51 (1 0 1), 25 (-1 -2), 261 (-2 0 0), 768 (1), 822 (0), 1258 (0 0), 201 (-2 4), 904 (-2), 590 (-1), 778 (0 0 -2), 166 (2), 447 (-1), 252 (0 2), 775 (1 1), 325 (1 -2), 436 (-1), 828 (-2), 813 (-2 3), 1060 (1), 876 (-2 0 -1 0), 228 (0 1), 907 (-2), 306 (0 4), 125 (1 1 0), 276 (2 4 0), 340 (2 -1 4), 148 (1 1 0), 1143 (4), 482 (2 3), 1049 (1), 622 (1), 588 (1 1), 17 (-2 -2), 312 (-2 1), 606 (1), 3 (0 3), 520 (1), 760 (-2), 720 (0 1 1), 286 (3 -2 0 0 4 0), 279 (2), 879 (-2 0 -1 0), 1023 (0), 1264 (3), 663 (2), 1179 (1), 12 (2 2 4), 440 (-2), 332 (1 1 0 0 2 0), 330 (2), 1225 (0), 382 (-2 3), 152 (2), 544 (0 3 -2), 803 (0), 435 (2), 342 (2 1 2 1), 783 (0 0), 2 (1 0), 948 (-2), 66 (0 0), 484 (2 3), 439 (-2), 236 (2), 556 (-2), 373 (1), 142 (1), 727 (0 1), 371 (0), 772 (-2), 444 (1), 570 (2 1), 757 (0), 107 (0), 984 (0), 23 (2 4), 1079 (0), 1168 (0), 230 (0), 625 (1 -1), 1623 (3), 47 (4), 526 (4 1), 180 (2 4), 786 (0), 1166 (2), 1442 (0), 870 (0 0), 659 (1 0), 158 (-2), 991 (-2), 350 (-1 -1 1 3), 1419 (0), 849 (-2), 1120 (0), 644 (0), 881 (-1 0), 127 (2 4), 1315 (1), 675 (2), 1055 (1), 533 (3), 910 (-1), 302 (2 1 0 1 2 4), 564 (-2), 566 (0 2), 821 (0 0), 787 (2 0), 82 (1 -1), 735 (0 4), 492 (2), 771 (0 0), 215 (1 4 1), 97 (1 1 3 2), 704 (0), 277 (0), 926 (1 0), 751 (2 -1 -1 2 1 -1 2 0), 597 (0 0 1), 938 (0), 202 (0 2 4), 68 (1 0), 452 (0), 200 (0), 1142 (4), 868 (2), 11 (0 -2 4 0), 1063 (1), 339 (0 2), 1316 (1), 431 (-1 -2 1), 462 (2), 255 (1 3), 546 (-1 0 0 3), 9 (0 1 0 4), 953 (1), 857 (0), 706 (-2), 1620 (0), 632 (0 -1), 457 (-2 0), 427 (2 4), 145 (0 -1), 5 (0 -2), 733 (2), 1163 (-1), 1165 (0 -2), 1152 (0), 624 (2), 831 (-2 0), 918 (0), 824 (0 0), 289 (-2 -1 3), 925 (0 2 0), 1059 (2), 730 (3), 699 (1), 712 (1), 1076 (0), 414 (2), 839 (-2), 802 (0 -1), 860 (-2), 179 (-1 4), 1514 (4), 344 (-2 0 3), 481 (0), 732 (1 2), 661 (2), 245 (-1 0 0), 378 (1 1), 913 (-2), 906 (-2 0), 658 (-2), 266 (-1 1 0), 324 (3), 793 (2), 1134 (4), 1014 (0 3), 680 (-1 -2 1 0), 446 (-2), 524 (1), 404 (0 2), 1025 (0), 617 (0), 283 (0 3), 572 (1 -1), 1221 (0 0), 705 (1 2 4), 1591 (-2), 1074 (0), 83 (1 -1), 138 (0 -2), 346 (1 -2 1 3), 14 (1 4), 455 (0 3), 265 (1 1 3), 449 (-1 1), 333 (3 1 1 0 4 0), 650 (-1), 639 (0), 569 (1 -1 0), 326 (0 1 0 3 1), 746 (0), 647 (2), 45 (0), 53 (-2), 559 (0 -2), 78 (-1 -2), 924 (1 0), 1119 (0), 912 (-1), 1048 (0 2), 315 (2 2 1 4), 914 (3 -1), 1284 (-1), 1181 (0), 480 (1 0 3), 132 (-1 1 4), 900 (2 3), 26 (0), 766 (1), 123 (1 3), 203 (1 4), 667 (-2), 392 (1 1), 1045 (-1), 577 (1), 807 (-2), 140 (2), 321 (-1 0 -1 -1), 795 (-1), 1446 (2), 441 (-2), 268 (1 -3 1 4), 840 (1 0), 320 (-2 4), 1249 (1), 288 (3 1 0 1 -2 3 0 4), 163 (0), 81 (-1 3), 79 (1 0), 211 (1), 38 (1 0), 173 (2 -1 4), 126 (0), 421 (-1 -1 4), 636 (0 -1), 98 (4), 423 (0 2 4 1), 614 (1), 762 (2 4), 582 (1), 554 (1 -1), 409 (1 -1 0 0), 1210 (0), 124 (2), 747 (1 1 3), 87 (1 2 3), 169 (0 4), 679 (1), 843 (0 2), 160 (1), 400 (1), 767 (-2), 896 (2), 928 (-2), 696 (1), 809 (1), 509 (2), 736 (1 0), 1199 (4), 874 (2), 690 (-1 3 1 1 0), 194 (1 2 3), 1047 (0 0 0), 511 (2), 73 (1 0), 336 (-2 -1 0), 96 (1 1 4), 837 (1), 660 (1), 272 (3 2 1 0 1 4), 488 (0), 903 (0), 386 (1), 270 (2 2 1 0), 576 (0 0), 717 (0 0), 271 (-1 1 -1 0 -2 3 3), 1432 (-2), 395 (0), 403 (0 -1 1), 469 (3 -2), 105 (0), 185 (0 4), 1051 (0), 1275 (2), 253 (0), 612 (1), 628 (1 0 2), 748 (-2 0 -1 1 0 1 0), 209 (0), 147 (2 0 3 0), 655 (0 2 4 1), 1022 (1 4), 750 (-1 1 -1 2 0 4), 852 (-2), 425 (4), 864 (0 -1 1), 67 (0 -2), 602 (1), 318 (0 4 2), 161 (1 2), 651 (1 2), 725 (-1), 1092 (0), 406 (-2), 438 (-2), 780 (1 -2), 71 (0 1 3), 939 (1 2), 877 (-1 0 1), 722 (-1 0), 42 (1 1 4), 919 (4), 80 (0), 885 (-2 1), 1035 (0), 199 (2), 841 (0 -2), 754 (1 0 2), 791 (2), 861 (0), 591 (2 -1 3 0), 744 (2 -2), 37 (-2), 183 (1 4), 1276 (0), 1139 (0), 892 (-2 0 -1 0 -1 0), 432 (1 0), 379 (-2), 212 (2 -2), 94 (1 0), 1434 (-2), 362 (-1 0 1), 8 (0 1 4), 686 (1 2 4 1), 692 (0 1), 764 (-1), 246 (4), 190 (1), 549 (1 0), 922 (1 2), 177 (2), 915 (2), 936 (3), 820 (0 -1 1 2), 49 (1 1), 858 (-2), 1609 (0), 84 (0)}]"
      ]
     },
     "execution_count": 9,
     "metadata": {},
     "output_type": "execute_result"
    }
   ],
   "source": [
    "(->> (load-ratings \"ua.base\")\n",
    "     (group-by :user)\n",
    "     (vals)\n",
    "     (item-differences)\n",
    "     (first))"
   ]
  },
  {
   "cell_type": "code",
   "execution_count": 10,
   "metadata": {},
   "outputs": [
    {
     "name": "stdout",
     "output_type": "stream",
     "text": [
      "893:343 (-2 -2 3 2)\n"
     ]
    }
   ],
   "source": [
    "(let [diffs (->> (load-ratings \"ua.base\")\n",
    "                 (group-by :user)\n",
    "                 (vals)\n",
    "                 (item-differences))]\n",
    "    (println \"893:343\" (get-in diffs [893 343])))"
   ]
  },
  {
   "cell_type": "markdown",
   "metadata": {},
   "source": [
    "To use differences for prediction we have to summarize them into a mean and keep track of the count of ratings"
   ]
  },
  {
   "cell_type": "code",
   "execution_count": 11,
   "metadata": {},
   "outputs": [
    {
     "data": {
      "text/plain": [
       "#'ch7.nb/slope-one-recommender"
      ]
     },
     "execution_count": 11,
     "metadata": {},
     "output_type": "execute_result"
    }
   ],
   "source": [
    "(defn summarize-item-differences\n",
    "    [related-items]\n",
    "    (let [f (fn [differences]\n",
    "                {:mean  (s/mean differences)\n",
    "                 :count (count differences)})]\n",
    "        (map-vals f related-items)))\n",
    "\n",
    "(defn slope-one-recommender\n",
    "    [ratings]\n",
    "    (->> (item-differences ratings)\n",
    "         (map-vals summarize-item-differences)))"
   ]
  },
  {
   "cell_type": "code",
   "execution_count": 12,
   "metadata": {},
   "outputs": [
    {
     "data": {
      "text/plain": [
       "{:mean 0.25, :count 4}"
      ]
     },
     "execution_count": 12,
     "metadata": {},
     "output_type": "execute_result"
    }
   ],
   "source": [
    "(let [recommender (->> (load-ratings \"ua.base\")\n",
    "                       (group-by :user)\n",
    "                       (vals)\n",
    "                       (slope-one-recommender))]\n",
    "    (get-in recommender [893 343]))"
   ]
  },
  {
   "cell_type": "markdown",
   "metadata": {},
   "source": [
    "### Prediction\n",
    "\n",
    "To make predictions we need the matrix of differences we calculated and the users' own previous ratings."
   ]
  },
  {
   "cell_type": "code",
   "execution_count": 13,
   "metadata": {},
   "outputs": [
    {
     "data": {
      "text/plain": [
       "#'ch7.nb/slope-one-recommend"
      ]
     },
     "execution_count": 13,
     "metadata": {},
     "output_type": "execute_result"
    }
   ],
   "source": [
    "(defn candidates\n",
    "    [recommender {:keys [rating item]}]\n",
    "    (->> (get recommender item)\n",
    "         (map (fn [[id {:keys [mean count]}]]\n",
    "                  {:item id\n",
    "                   :rating (+ rating mean)\n",
    "                   :count count}))))\n",
    "\n",
    "(defn weighted-rating\n",
    "    [[id candidates]]\n",
    "    (let [ratings-count (reduce + (map :count candidates))\n",
    "          sum-rating (map #(* (:rating %) (:count %)) candidates)\n",
    "          weighted-rating (/ (reduce + sum-rating) ratings-count)]\n",
    "        {:item id\n",
    "         :rating weighted-rating\n",
    "         :count ratings-count}))\n",
    "\n",
    "(defn slope-one-recommend\n",
    "    [recommender rated top-n]\n",
    "    (let [already-rated (set (map :item rated))\n",
    "          already-rated? (fn [{:keys [id]}]\n",
    "                             (contains? already-rated id))\n",
    "          recommendations (->> (mapcat #(candidates recommender %) rated)\n",
    "                               (group-by :item)\n",
    "                               (map weighted-rating)\n",
    "                               (remove already-rated?)\n",
    "                               (sort-by :rating >))]\n",
    "        (take top-n recommendations)))"
   ]
  },
  {
   "cell_type": "code",
   "execution_count": 14,
   "metadata": {},
   "outputs": [
    {
     "data": {
      "text/plain": [
       "(\"Someone Else's America (1995)\" \"Aiqing wansui (1994)\" \"Great Day in Harlem, A (1994)\" \"Pather Panchali (1955)\" \"Boys, Les (1997)\" \"Saint of Fort Washington, The (1993)\" \"Marlene Dietrich: Shadow and Light (1996) \" \"Anna (1996)\" \"Star Kid (1997)\" \"Santa with Muscles (1996)\")"
      ]
     },
     "execution_count": 14,
     "metadata": {},
     "output_type": "execute_result"
    }
   ],
   "source": [
    "(let [user-ratings (->> (load-ratings \"ua.base\")\n",
    "                        (group-by :user)\n",
    "                        (vals))\n",
    "      user-1 (first user-ratings)\n",
    "      recommender (->> (rest user-ratings)\n",
    "                       (slope-one-recommender))\n",
    "      items (load-items \"u.item\")\n",
    "      item-name (fn [item]\n",
    "                    (get items (:item item)))]\n",
    "    (->> (slope-one-recommend recommender user-1 10)\n",
    "         (map item-name)))"
   ]
  },
  {
   "cell_type": "markdown",
   "metadata": {},
   "source": [
    "## User-based recommender"
   ]
  },
  {
   "cell_type": "code",
   "execution_count": 15,
   "metadata": {},
   "outputs": [
    {
     "data": {
      "text/plain": [
       "#'ch7.nb/load-model"
      ]
     },
     "execution_count": 15,
     "metadata": {},
     "output_type": "execute_result"
    }
   ],
   "source": [
    "(defn load-model\n",
    "    [path]\n",
    "    (-> (io/resource path)\n",
    "        (io/file)\n",
    "        (FileDataModel.)))"
   ]
  },
  {
   "cell_type": "code",
   "execution_count": 16,
   "metadata": {},
   "outputs": [
    {
     "data": {
      "text/plain": [
       "(\"Big Lebowski, The (1998)\" \"Peacemaker, The (1997)\" \"Rainmaker, The (1997)\" \"Game, The (1997)\" \"Cool Hand Luke (1967)\")"
      ]
     },
     "execution_count": 16,
     "metadata": {},
     "output_type": "execute_result"
    }
   ],
   "source": [
    "(let [model (load-model \"ua.base\")\n",
    "      similarity (EuclideanDistanceSimilarity. model)\n",
    "      neighborhood (NearestNUserNeighborhood. 10 similarity\n",
    "                                              model)\n",
    "      recommender (GenericUserBasedRecommender. model\n",
    "                                                neighborhood\n",
    "                                                similarity)\n",
    "      items (load-items \"u.item\")\n",
    "      item-name (fn [id] (get items id))]\n",
    "    (->> (.recommend recommender 1 5)\n",
    "         (map #(item-name (.getItemID %)))))"
   ]
  },
  {
   "cell_type": "markdown",
   "metadata": {},
   "source": [
    "We used the `EuclideanDistanceSimilarity` as a distance metric to consider users' similarity.\n",
    "\n",
    "## KNN\n",
    "\n",
    "The recommender system we built chooses recommendations based on the **K-nearest neighbors**. But to choose the best **K** we have to evaluate our recommender."
   ]
  },
  {
   "cell_type": "code",
   "execution_count": 17,
   "metadata": {},
   "outputs": [
    {
     "data": {
      "text/plain": [
       "#'ch7.nb/recommender-builder"
      ]
     },
     "execution_count": 17,
     "metadata": {},
     "output_type": "execute_result"
    }
   ],
   "source": [
    "(defn recommender-builder [n sim]\n",
    "  (reify RecommenderBuilder\n",
    "    (buildRecommender [this model]\n",
    "      (let [nhood (NearestNUserNeighborhood. n sim model)]\n",
    "        (GenericUserBasedRecommender. model nhood sim)))))"
   ]
  },
  {
   "cell_type": "code",
   "execution_count": 18,
   "metadata": {},
   "outputs": [
    {
     "data": {
      "text/plain": [
       "#'ch7.nb/evaluate-rmse"
      ]
     },
     "execution_count": 18,
     "metadata": {},
     "output_type": "execute_result"
    }
   ],
   "source": [
    "; nil = no custom model builder\n",
    "; 0.7 & 1.0 = training & test\n",
    "(defn evaluate-rmse\n",
    "    [builder model]\n",
    "    (-> (RMSRecommenderEvaluator.)\n",
    "        (.evaluate builder nil model 0.7 1.0)))"
   ]
  },
  {
   "cell_type": "markdown",
   "metadata": {},
   "source": [
    "Now we test the model with $K=10$ and the Euclidean distance"
   ]
  },
  {
   "cell_type": "code",
   "execution_count": 19,
   "metadata": {
    "scrolled": false
   },
   "outputs": [
    {
     "data": {
      "text/plain": [
       "0.3809841627383913"
      ]
     },
     "execution_count": 19,
     "metadata": {},
     "output_type": "execute_result"
    }
   ],
   "source": [
    "(let [model (load-model \"ua.base\")\n",
    "      builder (recommender-builder 10\n",
    "                                   (EuclideanDistanceSimilarity. model))]\n",
    "    (evaluate-rmse builder model))"
   ]
  },
  {
   "cell_type": "markdown",
   "metadata": {},
   "source": [
    "## Other similarity measures\n",
    "\n",
    "### Pearson correlation similarity\n",
    "\n",
    "One of the potential problems of the **Euclidean distance** is that the measure fails to account for users agreeing in relative ratings, but one tends to be more generous. With **Pearson correlation** we look at the correlations between users and ratings."
   ]
  },
  {
   "cell_type": "code",
   "execution_count": 20,
   "metadata": {},
   "outputs": [
    {
     "data": {
      "text/plain": [
       "0.813230885261771"
      ]
     },
     "execution_count": 20,
     "metadata": {},
     "output_type": "execute_result"
    }
   ],
   "source": [
    "(let [model (load-model \"ua.base\")\n",
    "      builder (recommender-builder 10\n",
    "                                   (PearsonCorrelationSimilarity. model))]\n",
    "    (evaluate-rmse builder model))"
   ]
  },
  {
   "cell_type": "markdown",
   "metadata": {},
   "source": [
    "### Spearman rank similarity\n",
    "\n",
    "Another possible similarity between users, is that they don't give the same ratings, but their ordering is preserved."
   ]
  },
  {
   "cell_type": "code",
   "execution_count": 21,
   "metadata": {},
   "outputs": [
    {
     "data": {
      "text/plain": [
       "0.92283787602071"
      ]
     },
     "execution_count": 21,
     "metadata": {},
     "output_type": "execute_result"
    }
   ],
   "source": [
    "(let [model (load-model \"ua.base\")\n",
    "      builder (recommender-builder 10\n",
    "                (SpearmanCorrelationSimilarity. model))]\n",
    "    (-> (RMSRecommenderEvaluator.)\n",
    "        (.evaluate builder nil model 0.9 0.1)))"
   ]
  },
  {
   "cell_type": "markdown",
   "metadata": {},
   "source": [
    "## Determining optimum neighborhood size"
   ]
  },
  {
   "cell_type": "code",
   "execution_count": 22,
   "metadata": {},
   "outputs": [
    {
     "name": "stdout",
     "output_type": "stream",
     "text": [
      "1\n",
      "2\n",
      "3\n",
      "4\n",
      "5\n",
      "6\n",
      "7\n",
      "8\n",
      "9\n"
     ]
    },
    {
     "data": {
      "image/png": "[encoded data removed]"
     },
     "execution_count": 22,
     "metadata": {},
     "output_type": "execute_result"
    }
   ],
   "source": [
    "(let [model (load-model \"ua.base\")\n",
    "      sim (EuclideanDistanceSimilarity. model)\n",
    "      ns (range 1 10)\n",
    "      stats (for [n ns]\n",
    "                (let [builder (recommender-builder n sim)]\n",
    "                    (do (println n)\n",
    "                        (evaluate-rmse builder model))))]\n",
    "    (-> (c/scatter-plot ns stats\n",
    "                        :x-label \"Neighborhood size\"\n",
    "                        :y-label \"RMSE\")\n",
    "        (.createBufferedImage 600 400)))"
   ]
  },
  {
   "cell_type": "markdown",
   "metadata": {},
   "source": [
    "## More statistics\n",
    "\n",
    "We can get more stats about the performance of our recommender and decide what's best for our users. The **Information Retrieval statistics (IR stats)** it is like search engine evaluation: a search engine should strive to return as many of the results the user is looking for, without returning useless info. Of course, we use **Precision** and **Recall** to evaluate it.\n",
    "\n",
    "With Mahout we can calculate it with `GenericRecommenderIRStatsEvaluator` which evaluates the performance for each user. We don't split the data into training and test sets, but it works by removing some users' top-rated items."
   ]
  },
  {
   "cell_type": "code",
   "execution_count": 23,
   "metadata": {},
   "outputs": [
    {
     "data": {
      "text/plain": [
       "#'ch7.nb/evaluate-ir"
      ]
     },
     "execution_count": 23,
     "metadata": {},
     "output_type": "execute_result"
    }
   ],
   "source": [
    "(defn evaluate-ir\n",
    "    [builder model]\n",
    "    (-> (GenericRecommenderIRStatsEvaluator.)\n",
    "        (.evaluate builder nil model nil 5\n",
    "                   GenericRecommenderIRStatsEvaluator/CHOOSE_THRESHOLD\n",
    "                   1.0)\n",
    "        (bean)))"
   ]
  },
  {
   "cell_type": "code",
   "execution_count": 24,
   "metadata": {},
   "outputs": [
    {
     "data": {
      "text/plain": [
       "{:class org.apache.mahout.cf.taste.impl.eval.IRStatisticsImpl, :f1Measure 0.12227247160987471, :fallOut 0.0026328522573973866, :normalizedDiscountedCumulativeGain 0.1238618931039463, :precision 0.11675126903553307, :reach 1.0, :recall 0.12834179357021985}"
      ]
     },
     "execution_count": 24,
     "metadata": {},
     "output_type": "execute_result"
    }
   ],
   "source": [
    "(let [model (load-model \"ua.base\")\n",
    "      builder (recommender-builder\n",
    "                  10 (EuclideanDistanceSimilarity. model))]\n",
    "    (evaluate-ir builder model))"
   ]
  },
  {
   "cell_type": "markdown",
   "metadata": {},
   "source": [
    "The **Discounted Cumulative Gain (DCG)** is a measure of performance for recommendation systems based on the graded relevance of the recommended entities. It is $0<DCG<1$ with $1$ as perfect ranking.\n",
    "\n",
    "$$\n",
    "DCG_p=\\sum_{i=1}^{p}\\frac{2^{rel_i}-1}{log_2(i+1)}\n",
    "$$\n",
    "\n",
    "$rel_i$ is the relevance of the result at position $i$ and $p$ is the position in the rank.\n",
    "\n",
    "But, since the search result lists vary in length depending on the query, we can't compare results using **DCG** alone. We can sort the result by their relevance and calculate **DCG** again. This method will give the best possible cumulative discounted gain, so we call it **Ideal Discounted Cumulative Gain (IDCG)**.\n",
    "\n",
    "Taking the ratio of the two $nDCG=\\frac{DCG}{IDCG}$ we get the normalized discounted cumulative gain."
   ]
  },
  {
   "cell_type": "code",
   "execution_count": 25,
   "metadata": {},
   "outputs": [
    {
     "data": {
      "text/plain": [
       "#'ch7.nb/plot-ir"
      ]
     },
     "execution_count": 25,
     "metadata": {},
     "output_type": "execute_result"
    }
   ],
   "source": [
    "(defn plot-ir\n",
    "  [xs stats]\n",
    "  (-> (c/xy-plot xs (map :recall stats)\n",
    "                 :x-label \"Neighborhood size\"\n",
    "                 :y-label \"IR Statistic\"\n",
    "                 :series-label \"Recall\"\n",
    "                 :legend true)\n",
    "      (c/add-lines xs (map :precision stats)\n",
    "                   :series-label \"Precision\")\n",
    "      (c/add-lines xs\n",
    "                   (map :normalizedDiscountedCumulativeGain stats)\n",
    "                   :series-label \"NDCG\")\n",
    "      (.createBufferedImage 600 400)))"
   ]
  },
  {
   "cell_type": "code",
   "execution_count": 26,
   "metadata": {},
   "outputs": [
    {
     "name": "stdout",
     "output_type": "stream",
     "text": [
      "1\n",
      "2\n",
      "3\n",
      "4\n",
      "5\n",
      "6\n",
      "7\n",
      "8\n",
      "9\n"
     ]
    },
    {
     "data": {
      "image/png": "[encoded data removed]"
     },
     "execution_count": 26,
     "metadata": {},
     "output_type": "execute_result"
    }
   ],
   "source": [
    "(let [model (load-model \"ua.base\")\n",
    "      sim (EuclideanDistanceSimilarity. model)\n",
    "      xs (range 1 10)\n",
    "      stats (for [n xs]\n",
    "              (let [builder (recommender-builder n sim)]\n",
    "                (do (println n)\n",
    "                    (evaluate-ir builder model))))]\n",
    "  (plot-ir xs stats))"
   ]
  },
  {
   "cell_type": "markdown",
   "metadata": {},
   "source": [
    "## Boolean preferences\n",
    "\n",
    "We always assumed that the rating a user gives to an item is important. Another way to look at the issue is that the rating isn't so important after all, what we care about is if the user rated it at all. To do it we use **Boolean similarity**."
   ]
  },
  {
   "cell_type": "code",
   "execution_count": 27,
   "metadata": {},
   "outputs": [
    {
     "data": {
      "text/plain": [
       "#'ch7.nb/boolean-recommender-builder"
      ]
     },
     "execution_count": 27,
     "metadata": {},
     "output_type": "execute_result"
    }
   ],
   "source": [
    "(defn to-boolean-preferences\n",
    "  [model]\n",
    "  (-> (GenericBooleanPrefDataModel/toDataMap model)\n",
    "      (GenericBooleanPrefDataModel.)))\n",
    "\n",
    "(defn boolean-recommender-builder [n sim]\n",
    "  (reify RecommenderBuilder\n",
    "    (buildRecommender [this model]\n",
    "      (let [nhood (NearestNUserNeighborhood. n sim model)]\n",
    "        (GenericBooleanPrefUserBasedRecommender. model nhood sim)))))"
   ]
  },
  {
   "cell_type": "markdown",
   "metadata": {},
   "source": [
    "All of this means we have sets with 0s and 1s, so one way to measure similarity is the **Jaccard index**, but **Mahout** implements the **Tanimoto coefficient** so we will use that one (the two are basically the same: the first one applies to sets that may contain or not elements, while the second compares sets with 1s and 0s)."
   ]
  },
  {
   "cell_type": "code",
   "execution_count": 28,
   "metadata": {},
   "outputs": [
    {
     "name": "stdout",
     "output_type": "stream",
     "text": [
      "1\n",
      "2\n",
      "3\n",
      "4\n",
      "5\n",
      "6\n",
      "7\n",
      "8\n",
      "9\n"
     ]
    },
    {
     "data": {
      "image/png": "[encoded data removed]"
     },
     "execution_count": 28,
     "metadata": {},
     "output_type": "execute_result"
    }
   ],
   "source": [
    "(let [model   (to-boolean-preferences (load-model \"ua.base\"))\n",
    "      sim     (TanimotoCoefficientSimilarity. model)\n",
    "      xs      (range 1 10)\n",
    "      stats   (for [n xs]\n",
    "                (let [builder\n",
    "                      (boolean-recommender-builder n sim)]\n",
    "                  (do (println n)\n",
    "                      (evaluate-ir builder model))))]\n",
    "  (plot-ir xs stats))"
   ]
  },
  {
   "cell_type": "markdown",
   "metadata": {},
   "source": [
    "## Implicit vs Explicit\n",
    "\n",
    "Rather than trying to elicit explicit ratings as the *only truth*, we might focus on user activity. By using **implicit** feedback - such as clicks and views - can increase the amount of information to base predictions. But this means the size of the data will increase very quickly, before looking at cluster scale stuff, we might rely on **dimensionality reduction**.\n",
    "\n",
    "### Bloom filters\n",
    "\n",
    "A **Bloom filter** is a bit vector, the level of compression is configurable with 2 parameters: *k hash functions* and *m bits*."
   ]
  },
  {
   "cell_type": "code",
   "execution_count": 29,
   "metadata": {},
   "outputs": [
    {
     "data": {
      "text/plain": [
       "#'ch7.nb/bloom-filter"
      ]
     },
     "execution_count": 29,
     "metadata": {},
     "output_type": "execute_result"
    }
   ],
   "source": [
    "(defn hash-function\n",
    "  [m seed]\n",
    "  (fn [x]\n",
    "    (-> (Hashing/murmur3_32 seed)\n",
    "        (.hashUnencodedChars x)\n",
    "        (.asInt)\n",
    "        (mod m))))\n",
    "\n",
    "(defn hash-functions\n",
    "  [m k]\n",
    "  (map (partial hash-function m) (range k)))\n",
    "\n",
    "(defn indices-fn\n",
    "  [m k]\n",
    "  (let [f (apply juxt (hash-functions m k))]\n",
    "    (fn [x]\n",
    "      (f x))))\n",
    "\n",
    "(defn bloom-filter\n",
    "  [m k]\n",
    "  {:filter (vec (repeat m false))\n",
    "   :indices-fn (indices-fn m k)})"
   ]
  },
  {
   "cell_type": "code",
   "execution_count": 30,
   "metadata": {},
   "outputs": [
    {
     "data": {
      "text/plain": [
       "{:filter [false false false false false false false false], :indices-fn #function[ch7.nb/indices-fn/fn--17581]}"
      ]
     },
     "execution_count": 30,
     "metadata": {},
     "output_type": "execute_result"
    }
   ],
   "source": [
    "(bloom-filter 8 5)"
   ]
  },
  {
   "cell_type": "code",
   "execution_count": 31,
   "metadata": {},
   "outputs": [
    {
     "data": {
      "text/plain": [
       "#'ch7.nb/bloom-assoc"
      ]
     },
     "execution_count": 31,
     "metadata": {},
     "output_type": "execute_result"
    }
   ],
   "source": [
    "(defn set-bit\n",
    "  [seq index]\n",
    "  (assoc seq index true))\n",
    "\n",
    "(defn set-bits\n",
    "  [seq indices]\n",
    "  (reduce set-bit seq indices))\n",
    "\n",
    "(defn bloom-assoc\n",
    "  [{:keys [indices-fn] :as bloom} element]\n",
    "  (update-in bloom [:filter] set-bits (indices-fn element)))"
   ]
  },
  {
   "cell_type": "code",
   "execution_count": 32,
   "metadata": {},
   "outputs": [
    {
     "data": {
      "text/plain": [
       "[true true false true false false false true]"
      ]
     },
     "execution_count": 32,
     "metadata": {},
     "output_type": "execute_result"
    }
   ],
   "source": [
    "(-> (bloom-filter 8 5)\n",
    "    (bloom-assoc \"Indiana Jones\")\n",
    "    :filter)"
   ]
  },
  {
   "cell_type": "code",
   "execution_count": 33,
   "metadata": {},
   "outputs": [
    {
     "data": {
      "text/plain": [
       "#'ch7.nb/bloom-contains?"
      ]
     },
     "execution_count": 33,
     "metadata": {},
     "output_type": "execute_result"
    }
   ],
   "source": [
    "(defn bloom-contains?\n",
    "  [{:keys [filter indices-fn]} element]\n",
    "  (->> (indices-fn element)\n",
    "       (map filter)\n",
    "       (every? true?)))"
   ]
  },
  {
   "cell_type": "code",
   "execution_count": 34,
   "metadata": {},
   "outputs": [
    {
     "data": {
      "text/plain": [
       "true"
      ]
     },
     "execution_count": 34,
     "metadata": {},
     "output_type": "execute_result"
    }
   ],
   "source": [
    "(-> (bloom-filter 8 5)\n",
    "    (bloom-assoc \"Indiana Jones\")\n",
    "    (bloom-contains? \"Indiana Jones\"))"
   ]
  },
  {
   "cell_type": "code",
   "execution_count": 35,
   "metadata": {},
   "outputs": [
    {
     "data": {
      "text/plain": [
       "false"
      ]
     },
     "execution_count": 35,
     "metadata": {},
     "output_type": "execute_result"
    }
   ],
   "source": [
    "(-> (bloom-filter 8 5)\n",
    "    (bloom-assoc \"Indiana Jones\")\n",
    "    (bloom-contains? \"The Fugitive\"))"
   ]
  },
  {
   "cell_type": "code",
   "execution_count": 36,
   "metadata": {},
   "outputs": [
    {
     "data": {
      "text/plain": [
       "true"
      ]
     },
     "execution_count": 36,
     "metadata": {},
     "output_type": "execute_result"
    }
   ],
   "source": [
    "(-> (bloom-filter 8 5)\n",
    "    (bloom-assoc \"Indiana Jones\")\n",
    "    (bloom-contains? \"Bogus (1996)\"))"
   ]
  },
  {
   "cell_type": "markdown",
   "metadata": {},
   "source": [
    "As we just saw the **Bloom filter** will never say that an item hasn't been added when it has, but it can say that an item is there when it's not. There are 56 titles out of 1682 in the *MovieLens* dataset that the filter incorrectly reports on after adding \"Indiana Jones\" (3.3% error rate). The probability of obtaining a collision is:\n",
    "\n",
    "$$\n",
    "(1-e^{-\\frac{kn}{m}})^k\n",
    "$$\n",
    "\n",
    "$k$ and $m$ are the parameters of the **Bloom filter** and $n$ is the number of items added to the set. Solving it for our filter gives:\n",
    "\n",
    "$$\n",
    "(1-e^{-\\frac{5}{8}})^5 \\approx 0.022\n",
    "$$\n",
    "\n",
    "Although **Bloom filters** are a nice configurable way to compress data, we can't compare their content, so not good for recommendation systems.\n",
    "\n",
    "### MinHash\n",
    "\n",
    "With **MinHash** we can compress data and retain the ability to compare sets. Let's check how it works on the 2 most prolific raters of the dataset"
   ]
  },
  {
   "cell_type": "code",
   "execution_count": 37,
   "metadata": {},
   "outputs": [
    {
     "data": {
      "text/plain": [
       "#'ch7.nb/rated-items"
      ]
     },
     "execution_count": 37,
     "metadata": {},
     "output_type": "execute_result"
    }
   ],
   "source": [
    "(defn rated-items\n",
    "  [user-ratings id]\n",
    "  (->> (get user-ratings id)\n",
    "       (map :item)))"
   ]
  },
  {
   "cell_type": "code",
   "execution_count": 38,
   "metadata": {},
   "outputs": [
    {
     "name": "stdout",
     "output_type": "stream",
     "text": [
      "User 405:  727\n",
      "User 655:  675\n"
     ]
    },
    {
     "data": {
      "text/plain": [
       "158/543"
      ]
     },
     "execution_count": 38,
     "metadata": {},
     "output_type": "execute_result"
    }
   ],
   "source": [
    "(let [ratings (load-ratings \"ua.base\")\n",
    "      user-ratings (group-by :user ratings)\n",
    "      user-a (rated-items user-ratings 405)\n",
    "      user-b (rated-items user-ratings 655)]\n",
    "  (println \"User 405: \" (count user-a))\n",
    "  (println \"User 655: \" (count user-b))\n",
    "  (s/jaccard-index (set user-a) (set user-b)))"
   ]
  },
  {
   "cell_type": "markdown",
   "metadata": {},
   "source": [
    "With **MinHash** we pick *k* hash functions, but rather than hashing the set representation itself, we hash each element within the set. For each of the hash functions we pick the minimum value generated by any of the elements. So the output is a set of *k* numbers each equals the min hash value for that hash function."
   ]
  },
  {
   "cell_type": "code",
   "execution_count": 39,
   "metadata": {},
   "outputs": [
    {
     "data": {
      "text/plain": [
       "#'ch7.nb/minhasher"
      ]
     },
     "execution_count": 39,
     "metadata": {},
     "output_type": "execute_result"
    }
   ],
   "source": [
    "(defn hash-function\n",
    "  [seed]\n",
    "  (let [f (Hashing/murmur3_32 seed)]\n",
    "    (fn [x]\n",
    "      (-> (.hashUnencodedChars f (str x))\n",
    "          (.asInt)))))\n",
    "\n",
    "(defn hash-functions\n",
    "  [k]\n",
    "  (map hash-function (range k)))\n",
    "\n",
    "(defn pairwise-min\n",
    "  [a b]\n",
    "  (map min a b))\n",
    "\n",
    "(defn minhasher\n",
    "  [k]\n",
    "  (let [f (apply juxt (hash-functions k))]\n",
    "    (fn [coll]\n",
    "      (->> (map f coll)\n",
    "           (reduce pairwise-min)))))"
   ]
  },
  {
   "cell_type": "code",
   "execution_count": 40,
   "metadata": {},
   "outputs": [
    {
     "data": {
      "text/plain": [
       "(-1265741853 -623552190 -1570063170 -1810453357 -793765815)"
      ]
     },
     "execution_count": 40,
     "metadata": {},
     "output_type": "execute_result"
    }
   ],
   "source": [
    "((minhasher 5) [1 2 3 4])"
   ]
  },
  {
   "cell_type": "code",
   "execution_count": 41,
   "metadata": {},
   "outputs": [
    {
     "name": "stdout",
     "output_type": "stream",
     "text": [
      "User 405:  (-2144897714 -2146662900 -2141119028 -2143110220 -2140441272 -2145866799 -2147145175 -2143703868 -2146421577 -2139426844)\n",
      "User 655:  (-2144975311 -2146662900 -2141119028 -2141275395 -2145738774 -2140926583 -2147134300 -2143703868 -2146421577 -2147345319)\n"
     ]
    },
    {
     "data": {
      "text/plain": [
       "1/4"
      ]
     },
     "execution_count": 41,
     "metadata": {},
     "output_type": "execute_result"
    }
   ],
   "source": [
    "(let [ratings (load-ratings \"ua.base\")\n",
    "      user-ratings (group-by :user ratings)\n",
    "      minhash (minhasher 10)\n",
    "      user-a (minhash (rated-items user-ratings 405))\n",
    "      user-b (minhash (rated-items user-ratings 655))]\n",
    "  (println \"User 405: \" user-a)\n",
    "  (println \"User 655: \" user-b)\n",
    "  (s/jaccard-index (set user-a) (set user-b)))"
   ]
  },
  {
   "cell_type": "markdown",
   "metadata": {},
   "source": [
    "### Locality-sensitive hashing\n",
    "\n",
    "While **MinHasher** helps us saving space and time, it can still be prohibitively intensive. **Locality-sensitive hashing (LSH)** reduces the number of pairwise comparisons that we have to do. It does this by bucketing sets that are likely to have a minimum threshold of similarity together, only these sets need to be checked.\n",
    "\n",
    "We consider any pair that hash to the same bucket as a candidate for checking. If we computed **MinHash** signatures, an effective way to bucket them is to divide the signature matrix into $b$ bands consisting of $r$ elements as in the picture below:\n",
    "\n",
    "![buckets](../resources/hash_bucks.png)\n",
    "\n",
    "Now we just have to produce the **MinHash** signatures as before, and then partition the signature into bands of length $r$."
   ]
  },
  {
   "cell_type": "code",
   "execution_count": 42,
   "metadata": {},
   "outputs": [
    {
     "data": {
      "text/plain": [
       "#'ch7.nb/lsh-assoc"
      ]
     },
     "execution_count": 42,
     "metadata": {},
     "output_type": "execute_result"
    }
   ],
   "source": [
    "(def lsh-hasher (hash-function 0))\n",
    "\n",
    "(defn locality-sensitive-hash\n",
    "  [r]\n",
    "  {:r r :bands {}})\n",
    "\n",
    "(defn buckets-for\n",
    "  [r signature]\n",
    "  (->> (partition-all r signature)\n",
    "       (map lsh-hasher)\n",
    "       (map-indexed vector)))\n",
    "\n",
    "(defn lsh-assoc\n",
    "  [{:keys [r] :as lsh} {:keys [id signature]}]\n",
    "  (let [f (fn [lsh [band bucket]]\n",
    "            (update-in lsh [:bands band bucket] conj id))]\n",
    "    (->> (buckets-for r signature)\n",
    "         (reduce f lsh))))"
   ]
  },
  {
   "cell_type": "markdown",
   "metadata": {},
   "source": [
    "Here we defined a **LSH** as a map containing empty bands and $r$. When we associate a value into **LSH** with `lsh-assoc` we split the signature into $r$ bands and determine the bucket for each band. The items' IDs are added to buckets and these are grouped by the band ID, in this way items sharing a bucket in different bands are not put together"
   ]
  },
  {
   "cell_type": "code",
   "execution_count": 43,
   "metadata": {},
   "outputs": [
    {
     "name": "stdout",
     "output_type": "stream",
     "text": [
      "{:r 3,\n",
      " :bands\n",
      " {0 {1353249231 (13)},\n",
      "  1 {-100016681 (13)},\n",
      "  2 {-1217282814 (13)},\n",
      "  3 {-704443054 (13)},\n",
      "  4 {-143738650 (13)},\n",
      "  5 {-1809511158 (13)},\n",
      "  6 {1177598806 (13)},\n",
      "  7 {-2054093854 (13)},\n",
      "  8 {220825369 (13)}}}\n"
     ]
    }
   ],
   "source": [
    "(clojure.pprint/pprint \n",
    "  (let [ratings (load-ratings \"ua.base\")\n",
    "        user-ratings (group-by :user ratings)\n",
    "        minhash (minhasher 27)\n",
    "        user-a (minhash (rated-items user-ratings 13))\n",
    "        lsh (locality-sensitive-hash 3)]\n",
    "    (lsh-assoc lsh {:id 13 :signature user-a})))"
   ]
  },
  {
   "cell_type": "markdown",
   "metadata": {},
   "source": [
    "In the example above we performed **LSH** on user 13 with $k=27$ and $r=3$. We got back the buckets for 9 bands."
   ]
  },
  {
   "cell_type": "code",
   "execution_count": 44,
   "metadata": {},
   "outputs": [
    {
     "name": "stdout",
     "output_type": "stream",
     "text": [
      "{:r 3,\n",
      " :bands\n",
      " {0 {1353249231 (13), -780811496 (655)},\n",
      "  1 {-100016681 (13), -115792260 (655)},\n",
      "  2 {-1217282814 (13), -1911274538 (655)},\n",
      "  3 {-704443054 (13), 123070264 (655)},\n",
      "  4 {-143738650 (13), -154360221 (655)},\n",
      "  5 {-1809511158 (13), -1272446116 (655)},\n",
      "  6 {1177598806 (13), 872296818 (655)},\n",
      "  7 {-2054093854 (13), 1126350710 (655)},\n",
      "  8 {220825369 (655 13)}}}\n"
     ]
    }
   ],
   "source": [
    "(clojure.pprint/pprint\n",
    "  (let [ratings (load-ratings \"ua.base\")\n",
    "        user-ratings (group-by :user ratings)\n",
    "        minhash (minhasher 27)\n",
    "        user-a (minhash (rated-items user-ratings 13))\n",
    "        user-b (minhash (rated-items user-ratings 655))]\n",
    "    (-> (locality-sensitive-hash 3)\n",
    "        (lsh-assoc {:id 13 :signature user-a})\n",
    "        (lsh-assoc {:id 655 :signature user-b}))))"
   ]
  },
  {
   "cell_type": "markdown",
   "metadata": {},
   "source": [
    "So, users 13 and 655 are put together in the bucket for band 8, but in different buckets for the other bands.\n",
    "\n",
    "The probability that signatures agree for one band is $s^r$, where $s$ is the true similarity of sets and $r$ is the band's $r$. So the probability that signatures don't agree across all bands is $(1-s^r)^b$.\n",
    "\n",
    "To search for candidate pairs we perform the same process on a target signature and see which other items share the same buckets in the same bands"
   ]
  },
  {
   "cell_type": "code",
   "execution_count": 45,
   "metadata": {},
   "outputs": [
    {
     "data": {
      "text/plain": [
       "#'ch7.nb/lsh-candidates"
      ]
     },
     "execution_count": 45,
     "metadata": {},
     "output_type": "execute_result"
    }
   ],
   "source": [
    "(defn lsh-candidates\n",
    "  [{:keys [bands r]} signature]\n",
    "  (->> (buckets-for r signature)\n",
    "       (mapcat (fn [[band bucket]]\n",
    "                 (get-in bands [band bucket])))\n",
    "       (distinct)))"
   ]
  },
  {
   "cell_type": "code",
   "execution_count": 46,
   "metadata": {},
   "outputs": [
    {
     "name": "stdout",
     "output_type": "stream",
     "text": [
      "(655)\n"
     ]
    }
   ],
   "source": [
    "(clojure.pprint/pprint\n",
    "  (let [ratings (load-ratings \"ua.base\")\n",
    "        user-ratings (group-by :user ratings)\n",
    "        minhash (minhasher 27)\n",
    "        user-a (minhash (rated-items user-ratings 13))\n",
    "        user-b (minhash (rated-items user-ratings 655))\n",
    "        user-c (minhash (rated-items user-ratings 405))]\n",
    "    (-> (locality-sensitive-hash 3)\n",
    "        (lsh-assoc {:id 655 :signature user-b})\n",
    "        (lsh-assoc {:id 405 :signature user-c})\n",
    "        (lsh-candidates user-a))))"
   ]
  },
  {
   "cell_type": "markdown",
   "metadata": {},
   "source": [
    "## Dimensionality reduction"
   ]
  },
  {
   "cell_type": "code",
   "execution_count": 47,
   "metadata": {},
   "outputs": [
    {
     "data": {
      "text/plain": [
       "#'ch7.nb/iris"
      ]
     },
     "execution_count": 47,
     "metadata": {},
     "output_type": "execute_result"
    }
   ],
   "source": [
    "(def iris (iio/read-dataset \"data/iris.csv\" :header true))"
   ]
  },
  {
   "cell_type": "code",
   "execution_count": 48,
   "metadata": {},
   "outputs": [
    {
     "data": {
      "text/plain": [
       "\n",
       "| :sepal_length | :sepal_width | :petal_length | :petal_width |   :species |\n",
       "|---------------+--------------+---------------+--------------+------------|\n",
       "|           5.1 |          3.5 |           1.4 |          0.2 |     setosa |\n",
       "|           4.9 |          3.0 |           1.4 |          0.2 |     setosa |\n",
       "|           4.7 |          3.2 |           1.3 |          0.2 |     setosa |\n",
       "|           4.6 |          3.1 |           1.5 |          0.2 |     setosa |\n",
       "|           5.0 |          3.6 |           1.4 |          0.2 |     setosa |\n",
       "|           5.4 |          3.9 |           1.7 |          0.4 |     setosa |\n",
       "|           4.6 |          3.4 |           1.4 |          0.3 |     setosa |\n",
       "|           5.0 |          3.4 |           1.5 |          0.2 |     setosa |\n",
       "|           4.4 |          2.9 |           1.4 |          0.2 |     setosa |\n",
       "|           4.9 |          3.1 |           1.5 |          0.1 |     setosa |\n",
       "|           5.4 |          3.7 |           1.5 |          0.2 |     setosa |\n",
       "|           4.8 |          3.4 |           1.6 |          0.2 |     setosa |\n",
       "|           4.8 |          3.0 |           1.4 |          0.1 |     setosa |\n",
       "|           4.3 |          3.0 |           1.1 |          0.1 |     setosa |\n",
       "|           5.8 |          4.0 |           1.2 |          0.2 |     setosa |\n",
       "|           5.7 |          4.4 |           1.5 |          0.4 |     setosa |\n",
       "|           5.4 |          3.9 |           1.3 |          0.4 |     setosa |\n",
       "|           5.1 |          3.5 |           1.4 |          0.3 |     setosa |\n",
       "|           5.7 |          3.8 |           1.7 |          0.3 |     setosa |\n",
       "|           5.1 |          3.8 |           1.5 |          0.3 |     setosa |\n",
       "|           5.4 |          3.4 |           1.7 |          0.2 |     setosa |\n",
       "|           5.1 |          3.7 |           1.5 |          0.4 |     setosa |\n",
       "|           4.6 |          3.6 |           1.0 |          0.2 |     setosa |\n",
       "|           5.1 |          3.3 |           1.7 |          0.5 |     setosa |\n",
       "|           4.8 |          3.4 |           1.9 |          0.2 |     setosa |\n",
       "|           5.0 |          3.0 |           1.6 |          0.2 |     setosa |\n",
       "|           5.0 |          3.4 |           1.6 |          0.4 |     setosa |\n",
       "|           5.2 |          3.5 |           1.5 |          0.2 |     setosa |\n",
       "|           5.2 |          3.4 |           1.4 |          0.2 |     setosa |\n",
       "|           4.7 |          3.2 |           1.6 |          0.2 |     setosa |\n",
       "|           4.8 |          3.1 |           1.6 |          0.2 |     setosa |\n",
       "|           5.4 |          3.4 |           1.5 |          0.4 |     setosa |\n",
       "|           5.2 |          4.1 |           1.5 |          0.1 |     setosa |\n",
       "|           5.5 |          4.2 |           1.4 |          0.2 |     setosa |\n",
       "|           4.9 |          3.1 |           1.5 |          0.1 |     setosa |\n",
       "|           5.0 |          3.2 |           1.2 |          0.2 |     setosa |\n",
       "|           5.5 |          3.5 |           1.3 |          0.2 |     setosa |\n",
       "|           4.9 |          3.1 |           1.5 |          0.1 |     setosa |\n",
       "|           4.4 |          3.0 |           1.3 |          0.2 |     setosa |\n",
       "|           5.1 |          3.4 |           1.5 |          0.2 |     setosa |\n",
       "|           5.0 |          3.5 |           1.3 |          0.3 |     setosa |\n",
       "|           4.5 |          2.3 |           1.3 |          0.3 |     setosa |\n",
       "|           4.4 |          3.2 |           1.3 |          0.2 |     setosa |\n",
       "|           5.0 |          3.5 |           1.6 |          0.6 |     setosa |\n",
       "|           5.1 |          3.8 |           1.9 |          0.4 |     setosa |\n",
       "|           4.8 |          3.0 |           1.4 |          0.3 |     setosa |\n",
       "|           5.1 |          3.8 |           1.6 |          0.2 |     setosa |\n",
       "|           4.6 |          3.2 |           1.4 |          0.2 |     setosa |\n",
       "|           5.3 |          3.7 |           1.5 |          0.2 |     setosa |\n",
       "|           5.0 |          3.3 |           1.4 |          0.2 |     setosa |\n",
       "|           7.0 |          3.2 |           4.7 |          1.4 | versicolor |\n",
       "|           6.4 |          3.2 |           4.5 |          1.5 | versicolor |\n",
       "|           6.9 |          3.1 |           4.9 |          1.5 | versicolor |\n",
       "|           5.5 |          2.3 |           4.0 |          1.3 | versicolor |\n",
       "|           6.5 |          2.8 |           4.6 |          1.5 | versicolor |\n",
       "|           5.7 |          2.8 |           4.5 |          1.3 | versicolor |\n",
       "|           6.3 |          3.3 |           4.7 |          1.6 | versicolor |\n",
       "|           4.9 |          2.4 |           3.3 |          1.0 | versicolor |\n",
       "|           6.6 |          2.9 |           4.6 |          1.3 | versicolor |\n",
       "|           5.2 |          2.7 |           3.9 |          1.4 | versicolor |\n",
       "|           5.0 |          2.0 |           3.5 |          1.0 | versicolor |\n",
       "|           5.9 |          3.0 |           4.2 |          1.5 | versicolor |\n",
       "|           6.0 |          2.2 |           4.0 |          1.0 | versicolor |\n",
       "|           6.1 |          2.9 |           4.7 |          1.4 | versicolor |\n",
       "|           5.6 |          2.9 |           3.6 |          1.3 | versicolor |\n",
       "|           6.7 |          3.1 |           4.4 |          1.4 | versicolor |\n",
       "|           5.6 |          3.0 |           4.5 |          1.5 | versicolor |\n",
       "|           5.8 |          2.7 |           4.1 |          1.0 | versicolor |\n",
       "|           6.2 |          2.2 |           4.5 |          1.5 | versicolor |\n",
       "|           5.6 |          2.5 |           3.9 |          1.1 | versicolor |\n",
       "|           5.9 |          3.2 |           4.8 |          1.8 | versicolor |\n",
       "|           6.1 |          2.8 |           4.0 |          1.3 | versicolor |\n",
       "|           6.3 |          2.5 |           4.9 |          1.5 | versicolor |\n",
       "|           6.1 |          2.8 |           4.7 |          1.2 | versicolor |\n",
       "|           6.4 |          2.9 |           4.3 |          1.3 | versicolor |\n",
       "|           6.6 |          3.0 |           4.4 |          1.4 | versicolor |\n",
       "|           6.8 |          2.8 |           4.8 |          1.4 | versicolor |\n",
       "|           6.7 |          3.0 |           5.0 |          1.7 | versicolor |\n",
       "|           6.0 |          2.9 |           4.5 |          1.5 | versicolor |\n",
       "|           5.7 |          2.6 |           3.5 |          1.0 | versicolor |\n",
       "|           5.5 |          2.4 |           3.8 |          1.1 | versicolor |\n",
       "|           5.5 |          2.4 |           3.7 |          1.0 | versicolor |\n",
       "|           5.8 |          2.7 |           3.9 |          1.2 | versicolor |\n",
       "|           6.0 |          2.7 |           5.1 |          1.6 | versicolor |\n",
       "|           5.4 |          3.0 |           4.5 |          1.5 | versicolor |\n",
       "|           6.0 |          3.4 |           4.5 |          1.6 | versicolor |\n",
       "|           6.7 |          3.1 |           4.7 |          1.5 | versicolor |\n",
       "|           6.3 |          2.3 |           4.4 |          1.3 | versicolor |\n",
       "|           5.6 |          3.0 |           4.1 |          1.3 | versicolor |\n",
       "|           5.5 |          2.5 |           4.0 |          1.3 | versicolor |\n",
       "|           5.5 |          2.6 |           4.4 |          1.2 | versicolor |\n",
       "|           6.1 |          3.0 |           4.6 |          1.4 | versicolor |\n",
       "|           5.8 |          2.6 |           4.0 |          1.2 | versicolor |\n",
       "|           5.0 |          2.3 |           3.3 |          1.0 | versicolor |\n",
       "|           5.6 |          2.7 |           4.2 |          1.3 | versicolor |\n",
       "|           5.7 |          3.0 |           4.2 |          1.2 | versicolor |\n",
       "|           5.7 |          2.9 |           4.2 |          1.3 | versicolor |\n",
       "|           6.2 |          2.9 |           4.3 |          1.3 | versicolor |\n",
       "|           5.1 |          2.5 |           3.0 |          1.1 | versicolor |\n",
       "|           5.7 |          2.8 |           4.1 |          1.3 | versicolor |\n",
       "|           6.3 |          3.3 |           6.0 |          2.5 |  virginica |\n",
       "|           5.8 |          2.7 |           5.1 |          1.9 |  virginica |\n",
       "|           7.1 |          3.0 |           5.9 |          2.1 |  virginica |\n",
       "|           6.3 |          2.9 |           5.6 |          1.8 |  virginica |\n",
       "|           6.5 |          3.0 |           5.8 |          2.2 |  virginica |\n",
       "|           7.6 |          3.0 |           6.6 |          2.1 |  virginica |\n",
       "|           4.9 |          2.5 |           4.5 |          1.7 |  virginica |\n",
       "|           7.3 |          2.9 |           6.3 |          1.8 |  virginica |\n",
       "|           6.7 |          2.5 |           5.8 |          1.8 |  virginica |\n",
       "|           7.2 |          3.6 |           6.1 |          2.5 |  virginica |\n",
       "|           6.5 |          3.2 |           5.1 |          2.0 |  virginica |\n",
       "|           6.4 |          2.7 |           5.3 |          1.9 |  virginica |\n",
       "|           6.8 |          3.0 |           5.5 |          2.1 |  virginica |\n",
       "|           5.7 |          2.5 |           5.0 |          2.0 |  virginica |\n",
       "|           5.8 |          2.8 |           5.1 |          2.4 |  virginica |\n",
       "|           6.4 |          3.2 |           5.3 |          2.3 |  virginica |\n",
       "|           6.5 |          3.0 |           5.5 |          1.8 |  virginica |\n",
       "|           7.7 |          3.8 |           6.7 |          2.2 |  virginica |\n",
       "|           7.7 |          2.6 |           6.9 |          2.3 |  virginica |\n",
       "|           6.0 |          2.2 |           5.0 |          1.5 |  virginica |\n",
       "|           6.9 |          3.2 |           5.7 |          2.3 |  virginica |\n",
       "|           5.6 |          2.8 |           4.9 |          2.0 |  virginica |\n",
       "|           7.7 |          2.8 |           6.7 |          2.0 |  virginica |\n",
       "|           6.3 |          2.7 |           4.9 |          1.8 |  virginica |\n",
       "|           6.7 |          3.3 |           5.7 |          2.1 |  virginica |\n",
       "|           7.2 |          3.2 |           6.0 |          1.8 |  virginica |\n",
       "|           6.2 |          2.8 |           4.8 |          1.8 |  virginica |\n",
       "|           6.1 |          3.0 |           4.9 |          1.8 |  virginica |\n",
       "|           6.4 |          2.8 |           5.6 |          2.1 |  virginica |\n",
       "|           7.2 |          3.0 |           5.8 |          1.6 |  virginica |\n",
       "|           7.4 |          2.8 |           6.1 |          1.9 |  virginica |\n",
       "|           7.9 |          3.8 |           6.4 |          2.0 |  virginica |\n",
       "|           6.4 |          2.8 |           5.6 |          2.2 |  virginica |\n",
       "|           6.3 |          2.8 |           5.1 |          1.5 |  virginica |\n",
       "|           6.1 |          2.6 |           5.6 |          1.4 |  virginica |\n",
       "|           7.7 |          3.0 |           6.1 |          2.3 |  virginica |\n",
       "|           6.3 |          3.4 |           5.6 |          2.4 |  virginica |\n",
       "|           6.4 |          3.1 |           5.5 |          1.8 |  virginica |\n",
       "|           6.0 |          3.0 |           4.8 |          1.8 |  virginica |\n",
       "|           6.9 |          3.1 |           5.4 |          2.1 |  virginica |\n",
       "|           6.7 |          3.1 |           5.6 |          2.4 |  virginica |\n",
       "|           6.9 |          3.1 |           5.1 |          2.3 |  virginica |\n",
       "|           5.8 |          2.7 |           5.1 |          1.9 |  virginica |\n",
       "|           6.8 |          3.2 |           5.9 |          2.3 |  virginica |\n",
       "|           6.7 |          3.3 |           5.7 |          2.5 |  virginica |\n",
       "|           6.7 |          3.0 |           5.2 |          2.3 |  virginica |\n",
       "|           6.3 |          2.5 |           5.0 |          1.9 |  virginica |\n",
       "|           6.5 |          3.0 |           5.2 |          2.0 |  virginica |\n",
       "|           6.2 |          3.4 |           5.4 |          2.3 |  virginica |\n",
       "|           5.9 |          3.0 |           5.1 |          1.8 |  virginica |\n"
      ]
     },
     "execution_count": 48,
     "metadata": {},
     "output_type": "execute_result"
    }
   ],
   "source": [
    "iris"
   ]
  },
  {
   "cell_type": "code",
   "execution_count": 49,
   "metadata": {},
   "outputs": [
    {
     "data": {
      "text/plain": [
       "#'ch7.nb/plot-iris-columns"
      ]
     },
     "execution_count": 49,
     "metadata": {},
     "output_type": "execute_result"
    }
   ],
   "source": [
    "(defn plot-iris-columns\n",
    "  [a b]\n",
    "  (let [data (->> iris\n",
    "                  (i/$ [a b])\n",
    "                  (i/to-matrix))]\n",
    "    (-> (c/scatter-plot (i/$ (range 50) 0 data)\n",
    "                        (i/$ (range 50) 1 data)\n",
    "                        :x-label (name a)\n",
    "                        :y-label (name b))\n",
    "        (c/add-points (i/$ (range 50 100) 0 data)\n",
    "                      (i/$ (range 50 100) 1 data))\n",
    "        (c/add-points (i/$ [:not (range 100)] 0 data)\n",
    "                      (i/$ [:not (range 100)] 1 data))\n",
    "        (.createBufferedImage 600 400))))"
   ]
  },
  {
   "cell_type": "code",
   "execution_count": 50,
   "metadata": {},
   "outputs": [
    {
     "data": {
      "image/png": "[encoded data removed]"
     },
     "execution_count": 50,
     "metadata": {},
     "output_type": "execute_result"
    }
   ],
   "source": [
    "(plot-iris-columns :sepal_width\n",
    "                   :sepal_length)"
   ]
  },
  {
   "cell_type": "code",
   "execution_count": 51,
   "metadata": {},
   "outputs": [
    {
     "data": {
      "image/png": "[encoded data removed]"
     },
     "execution_count": 51,
     "metadata": {},
     "output_type": "execute_result"
    }
   ],
   "source": [
    "(plot-iris-columns :petal_width\n",
    "                   :petal_length)"
   ]
  },
  {
   "cell_type": "markdown",
   "metadata": {},
   "source": [
    "### PCA"
   ]
  },
  {
   "cell_type": "code",
   "execution_count": 52,
   "metadata": {},
   "outputs": [
    {
     "data": {
      "image/png": "[encoded data removed]"
     },
     "execution_count": 52,
     "metadata": {},
     "output_type": "execute_result"
    }
   ],
   "source": [
    "(let [data (->> iris\n",
    "                (i/$ (range 4))\n",
    "                (i/to-matrix))\n",
    "      components (s/principal-components data)\n",
    "      pc1 (i/$ 0 (:rotation components))\n",
    "      pc2 (i/$ 1 (:rotation components))\n",
    "      xs (i/mmult data pc1)\n",
    "      ys (i/mmult data pc2)]\n",
    "  (-> (c/scatter-plot (i/$ (range 50) 0 xs)\n",
    "                      (i/$ (range 50) 0 ys))\n",
    "      (c/add-points (i/$ (range 50 100) 0 xs)\n",
    "                    (i/$ (range 50 100) 0 ys))\n",
    "      (c/add-points (i/$ [:not (range 100)] 0 xs)\n",
    "                    (i/$ [:not (range 100)] 0 ys))\n",
    "      (.createBufferedImage 600 400)))"
   ]
  },
  {
   "cell_type": "markdown",
   "metadata": {},
   "source": [
    "## SVD"
   ]
  },
  {
   "cell_type": "code",
   "execution_count": 53,
   "metadata": {},
   "outputs": [
    {
     "data": {
      "text/plain": [
       "#'ch7.nb/project-into"
      ]
     },
     "execution_count": 53,
     "metadata": {},
     "output_type": "execute_result"
    }
   ],
   "source": [
    "(defn project-into\n",
    "  [matrix d]\n",
    "  (let [svd (i/decomp-svd matrix)]\n",
    "    {:U (i/$ (range d) (:U svd))\n",
    "     :S (i/diag (take d (:S svd)))\n",
    "     :V (i/trans\n",
    "          (i/$ (range d) (:V svd)))}))"
   ]
  },
  {
   "cell_type": "code",
   "execution_count": 54,
   "metadata": {},
   "outputs": [
    {
     "name": "stdout",
     "output_type": "stream",
     "text": [
      "Original  A 100x2 matrix\n",
      " ---------------\n",
      "-4.75e-01 -9.62e-01 \n",
      "-6.97e-01 -1.38e+00 \n",
      "-8.87e-01 -4.01e-01 \n",
      " ... \n",
      "-1.76e+00 -2.41e+00 \n",
      " 3.66e-01  1.61e-01 \n",
      " 1.83e-01 -7.48e-02 \n",
      "\n"
     ]
    },
    {
     "data": {
      "text/plain": [
       "{:U  A 100x1 matrix\n",
       " ---------------\n",
       "-7.00e-02 \n",
       "-1.01e-01 \n",
       "-6.32e-02 \n",
       " ... \n",
       "-2.03e-01 \n",
       " 2.59e-02 \n",
       " 5.44e-03 \n",
       ", :S  A 1x1 matrix\n",
       " -------------\n",
       " 1.45e+01 \n",
       ", :V  A 1x2 matrix\n",
       " -------------\n",
       " 7.14e-01  7.00e-01 \n",
       "}"
      ]
     },
     "execution_count": 54,
     "metadata": {},
     "output_type": "execute_result"
    }
   ],
   "source": [
    "(let [matrix (s/sample-mvn 100\n",
    "                           :sigma (i/matrix [[1 0.8]\n",
    "                                             [0.8 1]]))]\n",
    "  (println \"Original\" matrix)\n",
    "  (project-into matrix 1))"
   ]
  },
  {
   "cell_type": "code",
   "execution_count": 55,
   "metadata": {},
   "outputs": [
    {
     "data": {
      "image/png": "[encoded data removed]"
     },
     "execution_count": 55,
     "metadata": {},
     "output_type": "execute_result"
    }
   ],
   "source": [
    "(let [matrix (s/sample-mvn 100\n",
    "                           :sigma (i/matrix [[1 0.8]\n",
    "                                             [0.8 1]]))\n",
    "      svd (project-into matrix 1)\n",
    "      projection (i/mmult (:U svd)\n",
    "                          (:S svd)\n",
    "                          (:V svd))]\n",
    "  (-> (c/scatter-plot (i/$ 0 matrix) (i/$ 1 matrix)\n",
    "                      :series-label \"Original\"\n",
    "                      :legend true)\n",
    "      (c/add-points (i/$ 0 projection) (i/$ 1 projection)\n",
    "                    :series-label \"Projection\")\n",
    "      (.createBufferedImage 600 400)))"
   ]
  },
  {
   "cell_type": "code",
   "execution_count": 57,
   "metadata": {},
   "outputs": [
    {
     "data": {
      "image/png": "[encoded data removed]"
     },
     "execution_count": 57,
     "metadata": {},
     "output_type": "execute_result"
    }
   ],
   "source": [
    "(let [svd (->> iris\n",
    "               (i/$ (range 4))\n",
    "               (i/to-matrix)\n",
    "               (i/decomp-svd))\n",
    "      dims 2\n",
    "      u (i/$ (range dims) (:U svd))\n",
    "      s (i/diag (take dims (:S svd)))\n",
    "      v (i/trans (i/$ (range dims) (:V svd)))\n",
    "      projection (i/mmult u s v)]\n",
    "  (-> (c/scatter-plot (i/$ (range 50) 0 projection)\n",
    "                      (i/$ (range 50) 1 projection))\n",
    "      (c/add-points (i/$ (range 50 100) 0 projection)\n",
    "                    (i/$ (range 50 100) 1 projection))\n",
    "      (c/add-points (i/$ [:not (range 100)] 0 projection)\n",
    "                    (i/$ [:not (range 100)] 1 projection))\n",
    "      (.createBufferedImage 600 400)))"
   ]
  },
  {
   "cell_type": "markdown",
   "metadata": {},
   "source": [
    "# Spark\n",
    "\n",
    "We will use **[Sparkling](https://gorillalabs.github.io/sparkling/)** to communicate with **Spark**, but there is also **[Flambo](https://github.com/yieldbot/flambo)**. We don't have to have HDFS, we can load data from any storage source, even the file system.\n",
    "\n",
    "Let's start by counting the number of ratings in the **MovieLens** dataset."
   ]
  },
  {
   "cell_type": "code",
   "execution_count": 3,
   "metadata": {},
   "outputs": [
    {
     "data": {
      "text/plain": [
       "#'ch7.nb/count-ratings"
      ]
     },
     "execution_count": 3,
     "metadata": {},
     "output_type": "execute_result"
    }
   ],
   "source": [
    "(defn count-ratings\n",
    "  [sc]\n",
    "  (-> (spark/text-file sc \"data/ml-100k/ua.base\")\n",
    "      (spark/count)))"
   ]
  },
  {
   "cell_type": "code",
   "execution_count": 4,
   "metadata": {},
   "outputs": [
    {
     "data": {
      "text/plain": [
       "90570"
      ]
     },
     "execution_count": 4,
     "metadata": {},
     "output_type": "execute_result"
    }
   ],
   "source": [
    "(spark/with-context sc (-> (conf/spark-conf)\n",
    "                           (conf/master \"local\")\n",
    "                           (conf/app-name \"ch7\"))\n",
    "  (count-ratings sc))"
   ]
  },
  {
   "cell_type": "markdown",
   "metadata": {},
   "source": [
    "First of all we have to pass a **Spark** context as the first argument, which tells **Spark** how to access the cluster. The most basic conf gives **Spark** the location of its master and the app name. Since we are running it locally, we pass `\"local\"` as master.\n",
    "\n",
    "For simplicity we will parse each rating into a `Rating` object."
   ]
  },
  {
   "cell_type": "code",
   "execution_count": 5,
   "metadata": {},
   "outputs": [
    {
     "data": {
      "text/plain": [
       "#'ch7.nb/parse-ratings"
      ]
     },
     "execution_count": 5,
     "metadata": {},
     "output_type": "execute_result"
    }
   ],
   "source": [
    "(defn parse-long [i]\n",
    "  (Long/parseLong i))\n",
    "\n",
    "(defn parse-rating\n",
    "  [line]\n",
    "  (let [[user item rating time] (->> (str/split line #\"\\t\")\n",
    "                                     (map parse-long))]\n",
    "    (spark/tuple (mod time 10)\n",
    "                 (Rating. user item rating))))\n",
    "\n",
    "(defn parse-ratings\n",
    "  [sc]\n",
    "  (->> (spark/text-file sc \"data/ml-100k/ua.base\")\n",
    "       (spark/map-to-pair parse-rating)))"
   ]
  },
  {
   "cell_type": "code",
   "execution_count": 6,
   "metadata": {},
   "outputs": [
    {
     "data": {
      "text/plain": [
       "#sparkling/tuple [8 #object[org.apache.spark.mllib.recommendation.Rating 0x76f26d64 \"Rating(1,1,5.0)\"]]"
      ]
     },
     "execution_count": 6,
     "metadata": {},
     "output_type": "execute_result"
    }
   ],
   "source": [
    "(spark/with-context sc (-> (conf/spark-conf)\n",
    "                           (conf/master \"local\")\n",
    "                           (conf/app-name \"ch7\"))\n",
    "  (->> (parse-ratings sc)\n",
    "       (spark/collect)\n",
    "       first))"
   ]
  },
  {
   "cell_type": "markdown",
   "metadata": {},
   "source": [
    "**Spark** uses tuples to represent pairs of keys and values, while datasets are represented as **RDDs**. Let's now filter the data based on the key and create a subset that can be used for training."
   ]
  },
  {
   "cell_type": "code",
   "execution_count": 7,
   "metadata": {},
   "outputs": [
    {
     "data": {
      "text/plain": [
       "#'ch7.nb/test-ratings"
      ]
     },
     "execution_count": 7,
     "metadata": {},
     "output_type": "execute_result"
    }
   ],
   "source": [
    "(defn training-ratings\n",
    "  [ratings]\n",
    "  (->> ratings\n",
    "       (spark/filter (fn [tuple]\n",
    "                       (< (s-de/key tuple) 8)))\n",
    "       (spark/values)))\n",
    "\n",
    "(defn test-ratings [ratings]\n",
    "  (->> ratings\n",
    "       (spark/filter (s-de/first-value-fn\n",
    "                      (fn [key] (>= key 8))))\n",
    "       (spark/values)))"
   ]
  },
  {
   "cell_type": "markdown",
   "metadata": {},
   "source": [
    "**Spark** much like Clojure is lazy and won't calculate values unless they are needed, and similarly it won't explicitly cache data by default. Of course we can persist **RDDs**, and we can choose whether to store them in-memory, on disk or even replicate the cache across disks. In this case we will store the data in-memory"
   ]
  },
  {
   "cell_type": "code",
   "execution_count": 8,
   "metadata": {},
   "outputs": [
    {
     "name": "stdout",
     "output_type": "stream",
     "text": [
      "Training:  72814\n",
      "Test:      17756\n"
     ]
    }
   ],
   "source": [
    "(spark/with-context sc (-> (conf/spark-conf)\n",
    "                           (conf/master \"local\")\n",
    "                           (conf/app-name \"ch7\"))\n",
    "  (let [ratings (spark/cache (parse-ratings sc))\n",
    "        train (training-ratings ratings)\n",
    "        test (test-ratings ratings)]\n",
    "    (println \"Training: \" (spark/count train))\n",
    "    (println \"Test:     \" (spark/count test))))"
   ]
  },
  {
   "cell_type": "markdown",
   "metadata": {},
   "source": [
    "## ALS with MLlib\n",
    "\n",
    "**Alternating least squares (ALS)** is an iterative algo that uses least-squares estimates to decompose the *user-movies* matrix into 2 matrices: the **user factors** and **movie factors**. We're assuming that users' ratings are based on some latent property of the movie that can't be measured directly, but can be inferred from the ratings matrix.\n",
    "\n",
    "So we're basically reducing dimensionality and the prediction problem is reduced as well: it is a matrix multiplication."
   ]
  },
  {
   "cell_type": "code",
   "execution_count": 9,
   "metadata": {},
   "outputs": [
    {
     "data": {
      "text/plain": [
       "#'ch7.nb/als"
      ]
     },
     "execution_count": 9,
     "metadata": {},
     "output_type": "execute_result"
    }
   ],
   "source": [
    "(defn to-mllib-rdd\n",
    "  [rdd]\n",
    "  (.rdd rdd))\n",
    "\n",
    "(defn from-mllib-rdd\n",
    "  [rdd]\n",
    "  (JavaRDD/fromRDD rdd scala/OBJECT-CLASS-TAG))\n",
    "\n",
    "(defn als\n",
    "  [data {:keys [rank num-iter lambda]}]\n",
    "  (ALS/train (to-mllib-rdd data) rank num-iter lambda 10))"
   ]
  },
  {
   "cell_type": "code",
   "execution_count": 10,
   "metadata": {},
   "outputs": [
    {
     "data": {
      "text/plain": [
       "[#object[org.apache.spark.mllib.recommendation.Rating 0x23f2f9fd \"Rating(1,814,3.81159854430977)\"] #object[org.apache.spark.mllib.recommendation.Rating 0x44bbfae2 \"Rating(1,1500,3.74081280560414)\"] #object[org.apache.spark.mllib.recommendation.Rating 0x7ff77a09 \"Rating(1,1599,3.722143927082771)\"]]"
      ]
     },
     "execution_count": 10,
     "metadata": {},
     "output_type": "execute_result"
    }
   ],
   "source": [
    "(spark/with-context sc (-> (conf/spark-conf)\n",
    "                           (conf/master \"local\")\n",
    "                           (conf/app-name \"ch7\"))\n",
    "  (let [options {:rank 10\n",
    "                 :num-iter 10\n",
    "                 :lambda 1.0}\n",
    "        model (-> (parse-ratings sc)\n",
    "                  (training-ratings)\n",
    "                  (als options))]\n",
    "    (into [] (.recommendProducts model 1 3))))"
   ]
  },
  {
   "cell_type": "code",
   "execution_count": 13,
   "metadata": {},
   "outputs": [
    {
     "data": {
      "text/plain": [
       "(\"Great Day in Harlem, A (1994)\" \"Santa with Muscles (1996)\" \"Someone Else's America (1995)\")"
      ]
     },
     "execution_count": 13,
     "metadata": {},
     "output_type": "execute_result"
    }
   ],
   "source": [
    "(spark/with-context sc (-> (conf/spark-conf)\n",
    "                           (conf/master \"local\")\n",
    "                           (conf/app-name \"ch7\"))\n",
    "  (let [items (load-items \"u.item\")\n",
    "        id->name (fn [id] (get items id))\n",
    "        options {:rank 10\n",
    "                 :num-iter 10\n",
    "                 :lambda 1.0}\n",
    "        model (-> (parse-ratings sc)\n",
    "                  (training-ratings)\n",
    "                  (als options))]\n",
    "    (->> (.recommendProducts model 1 3) ; recommendations for one user\n",
    "         (map (comp id->name #(.product %))))))"
   ]
  },
  {
   "cell_type": "markdown",
   "metadata": {},
   "source": [
    "Now we want to evaluate **ALS**, unfortunately **Spark** doesn't have a builtin evaluator, but we have to build our own. We will use RMSE"
   ]
  },
  {
   "cell_type": "code",
   "execution_count": 17,
   "metadata": {},
   "outputs": [
    {
     "data": {
      "text/plain": [
       "#'ch7.nb/predict"
      ]
     },
     "execution_count": 17,
     "metadata": {},
     "output_type": "execute_result"
    }
   ],
   "source": [
    "(defn user-product\n",
    "  [rating]\n",
    "  (spark/tuple (.user rating)\n",
    "               (.product rating)))\n",
    "\n",
    "(defn user-product-rating\n",
    "  [rating]\n",
    "  (spark/tuple (user-product rating)\n",
    "               (.rating rating)))\n",
    "\n",
    "(defn predict\n",
    "  [model data]\n",
    "  (->> (spark/map-to-pair user-product data)\n",
    "       (to-mllib-rdd)\n",
    "       (.predict model) ; predicts many users and items at once\n",
    "       (from-mllib-rdd)\n",
    "       (spark/map-to-pair user-product-rating)))"
   ]
  },
  {
   "cell_type": "code",
   "execution_count": 18,
   "metadata": {},
   "outputs": [
    {
     "data": {
      "text/plain": [
       "#'ch7.nb/rmse"
      ]
     },
     "execution_count": 18,
     "metadata": {},
     "output_type": "execute_result"
    }
   ],
   "source": [
    "(defn squared-error\n",
    "  [y-hat y]\n",
    "  (Math/pow (- y-hat y) 2))\n",
    "\n",
    "(defn sum-squared-errors\n",
    "  [predictions actuals]\n",
    "  (->> (spark/join predictions actuals)\n",
    "       (spark/values)\n",
    "       (spark/map (s-de/val-val-fn squared-error))\n",
    "       (spark/reduce +)))\n",
    "\n",
    "(defn rmse\n",
    "  [model data]\n",
    "  (let [predictions (spark/cache (predict model data))\n",
    "        actuals (->> (spark/map-to-pair user-product-rating\n",
    "                                        data)\n",
    "                     (spark/cache))]\n",
    "    (-> (sum-squared-errors predictions actuals)\n",
    "        (/ (spark/count data))\n",
    "        (Math/sqrt))))"
   ]
  },
  {
   "cell_type": "markdown",
   "metadata": {},
   "source": [
    "Previously we plotted RMSE as the size of the neighborhood increased, now we will do the same altering the rank of the factor matrix"
   ]
  },
  {
   "cell_type": "code",
   "execution_count": 19,
   "metadata": {},
   "outputs": [
    {
     "name": "stdout",
     "output_type": "stream",
     "text": [
      "0.8603952094417379 RMSE for rank  2\n",
      "0.8117099384165897 RMSE for rank  4\n",
      "0.7768904449694453 RMSE for rank  6\n",
      "0.7525064628253808 RMSE for rank  8\n",
      "0.7292207636398794 RMSE for rank  10\n",
      "0.7107159531880162 RMSE for rank  12\n",
      "0.6939301310734743 RMSE for rank  14\n",
      "0.6827977515623589 RMSE for rank  16\n",
      "0.6704441695024634 RMSE for rank  18\n",
      "0.6601894169327599 RMSE for rank  20\n",
      "0.6507801848555987 RMSE for rank  22\n",
      "0.6434828436909502 RMSE for rank  24\n",
      "0.6358466787746468 RMSE for rank  26\n",
      "0.6300949414660368 RMSE for rank  28\n",
      "0.6246893907614376 RMSE for rank  30\n",
      "0.6210775178670175 RMSE for rank  32\n",
      "0.6176178282971851 RMSE for rank  34\n",
      "0.6134024431990618 RMSE for rank  36\n",
      "0.6096659785557145 RMSE for rank  38\n",
      "0.6074819227609093 RMSE for rank  40\n",
      "0.6048177113075409 RMSE for rank  42\n",
      "0.6025346845758524 RMSE for rank  44\n",
      "0.6011585873277333 RMSE for rank  46\n",
      "0.5989041090254821 RMSE for rank  48\n"
     ]
    },
    {
     "data": {
      "image/png": "[encoded data removed]"
     },
     "execution_count": 19,
     "metadata": {},
     "output_type": "execute_result"
    }
   ],
   "source": [
    "(spark/with-context sc (-> (conf/spark-conf)\n",
    "                           (conf/master \"local\")\n",
    "                           (conf/app-name \"ch7\"))\n",
    "  (let [options {:num-iter 10 :lambda 0.1}\n",
    "        training (-> (parse-ratings sc)\n",
    "                     (training-ratings)\n",
    "                     (spark/cache))\n",
    "        ranks (range 2 50 2)\n",
    "        errors (for [rank ranks]\n",
    "                 (doto (-> (als training\n",
    "                                (assoc options :rank rank))\n",
    "                           (rmse training))\n",
    "                   (println \"RMSE for rank \" rank)))]\n",
    "    (-> (c/scatter-plot ranks errors)\n",
    "        (.createBufferedImage 800 600))))"
   ]
  },
  {
   "cell_type": "markdown",
   "metadata": {},
   "source": [
    "As we can see the higher the rank the better our model performs. But what we really want to do is to evaluate it against test data"
   ]
  },
  {
   "cell_type": "code",
   "execution_count": 21,
   "metadata": {},
   "outputs": [
    {
     "name": "stdout",
     "output_type": "stream",
     "text": [
      "0.9338170985068125 RMSE for rank 2\n",
      "0.9276708507425292 RMSE for rank 4\n",
      "0.9322441482267607 RMSE for rank 6\n",
      "0.9296980546516551 RMSE for rank 8\n",
      "0.9322518932140851 RMSE for rank 10\n",
      "0.9342636990221903 RMSE for rank 12\n",
      "0.932053593266065 RMSE for rank 14\n",
      "0.9304577739156324 RMSE for rank 16\n",
      "0.9308966272594319 RMSE for rank 18\n",
      "0.930384359299621 RMSE for rank 20\n",
      "0.9284217282982595 RMSE for rank 22\n",
      "0.929581608323128 RMSE for rank 24\n",
      "0.928247493914443 RMSE for rank 26\n",
      "0.9287968254411585 RMSE for rank 28\n",
      "0.9255370813852937 RMSE for rank 30\n",
      "0.9255798554173209 RMSE for rank 32\n",
      "0.9273954517221189 RMSE for rank 34\n",
      "0.9267639491230251 RMSE for rank 36\n",
      "0.9287317995492522 RMSE for rank 38\n",
      "0.925299060384896 RMSE for rank 40\n",
      "0.9260601972192902 RMSE for rank 42\n",
      "0.9249536745200022 RMSE for rank 44\n",
      "0.9256885301855277 RMSE for rank 46\n",
      "0.9250079042815441 RMSE for rank 48\n"
     ]
    },
    {
     "data": {
      "image/png": "[encoded data removed]"
     },
     "execution_count": 21,
     "metadata": {},
     "output_type": "execute_result"
    }
   ],
   "source": [
    "(spark/with-context sc (-> (conf/spark-conf)\n",
    "                           (conf/master \"local\")\n",
    "                           (conf/app-name \"ch7\"))\n",
    "   (let [options {:num-iter 10 :lambda 0.1}\n",
    "          parsed   (spark/cache (parse-ratings sc))\n",
    "          training (spark/cache (training-ratings parsed))\n",
    "          test     (spark/cache (test-ratings parsed))\n",
    "          ranks    (range 2 50 2)\n",
    "          errors   (for [rank ranks]\n",
    "                     (doto (-> (als training\n",
    "                                  (assoc options :rank rank))\n",
    "                               (rmse test))\n",
    "                       (println \"RMSE for rank\" rank)))]\n",
    "    (-> (c/scatter-plot ranks errors)\n",
    "        (.createBufferedImage 800 600))))"
   ]
  },
  {
   "cell_type": "code",
   "execution_count": null,
   "metadata": {},
   "outputs": [],
   "source": []
  }
 ],
 "metadata": {
  "kernelspec": {
   "display_name": "Lein-Clojure",
   "language": "clojure",
   "name": "lein-clojure"
  },
  "language_info": {
   "file_extension": ".clj",
   "mimetype": "text/x-clojure",
   "name": "clojure",
   "version": "1.9.0"
  }
 },
 "nbformat": 4,
 "nbformat_minor": 2
}
