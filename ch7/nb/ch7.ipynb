{
 "cells": [
  {
   "cell_type": "code",
   "execution_count": 1,
   "metadata": {},
   "outputs": [],
   "source": [
    "(ns ch7.nb\n",
    "    (:require [clojupyter.misc.helper :as helper]\n",
    "              [clojupyter.misc.display :as display]\n",
    "              [clojure.java.io :as io]\n",
    "              [incanter.charts :as c]\n",
    "              [incanter.core :as i]\n",
    "              [incanter.datasets :as d]\n",
    "              [incanter.stats :as s]\n",
    "              [clojure.string :as string]\n",
    "              [medley.core :refer [map-vals]])\n",
    "    (:import [org.apache.mahout.cf.taste.eval RecommenderBuilder]\n",
    "             [org.apache.mahout.cf.taste.impl.eval \n",
    "                GenericRecommenderIRStatsEvaluator \n",
    "                RMSRecommenderEvaluator]\n",
    "             [org.apache.mahout.cf.taste.impl.model GenericBooleanPrefDataModel]\n",
    "             [org.apache.mahout.cf.taste.impl.model.file FileDataModel]\n",
    "             [org.apache.mahout.cf.taste.impl.neighborhood NearestNUserNeighborhood]\n",
    "             [org.apache.mahout.cf.taste.impl.recommender GenericBooleanPrefUserBasedRecommender \n",
    "                GenericUserBasedRecommender]\n",
    "             [org.apache.mahout.cf.taste.impl.similarity EuclideanDistanceSimilarity \n",
    "                TanimotoCoefficientSimilarity \n",
    "                SpearmanCorrelationSimilarity \n",
    "                PearsonCorrelationSimilarity]))"
   ]
  },
  {
   "cell_type": "markdown",
   "metadata": {},
   "source": [
    "# Data inspection"
   ]
  },
  {
   "cell_type": "code",
   "execution_count": 2,
   "metadata": {},
   "outputs": [
    {
     "data": {
      "text/plain": [
       "\"1\\t1\\t5\\t874965758\""
      ]
     },
     "execution_count": 2,
     "metadata": {},
     "output_type": "execute_result"
    }
   ],
   "source": [
    "(->> (io/reader \"data/ml-100k/ua.base\")\n",
    "     (line-seq)\n",
    "     (first))"
   ]
  },
  {
   "cell_type": "code",
   "execution_count": 3,
   "metadata": {},
   "outputs": [
    {
     "data": {
      "text/plain": [
       "\"1|Toy Story (1995)|01-Jan-1995||http://us.imdb.com/M/title-exact?Toy%20Story%20(1995)|0|0|0|1|1|1|0|0|0|0|0|0|0|0|0|0|0|0|0\""
      ]
     },
     "execution_count": 3,
     "metadata": {},
     "output_type": "execute_result"
    }
   ],
   "source": [
    "(->> (io/reader \"data/ml-100k/u.item\")\n",
    "     (io/reader)\n",
    "     (line-seq)\n",
    "     (first))"
   ]
  },
  {
   "cell_type": "markdown",
   "metadata": {},
   "source": [
    "# Data parsing"
   ]
  },
  {
   "cell_type": "code",
   "execution_count": 4,
   "metadata": {},
   "outputs": [
    {
     "data": {
      "text/plain": [
       "#'ch7.nb/load-ratings"
      ]
     },
     "execution_count": 4,
     "metadata": {},
     "output_type": "execute_result"
    }
   ],
   "source": [
    "(defn to-long\n",
    "    [s]\n",
    "    (Long/parseLong s))\n",
    "\n",
    "(defn line->rating\n",
    "    [line]\n",
    "    (->> (string/split line #\"\\t\")\n",
    "         (map to-long)\n",
    "         (zipmap [:user :item :rating])))\n",
    "\n",
    "(defn load-ratings\n",
    "    [file]\n",
    "    (with-open [rdr (io/reader (str \"data/ml-100k/\" file))]\n",
    "        (->> (line-seq rdr)\n",
    "             (map line->rating)\n",
    "             (into []))))"
   ]
  },
  {
   "cell_type": "code",
   "execution_count": 5,
   "metadata": {},
   "outputs": [
    {
     "data": {
      "text/plain": [
       "{:user 1, :item 1, :rating 5}"
      ]
     },
     "execution_count": 5,
     "metadata": {},
     "output_type": "execute_result"
    }
   ],
   "source": [
    "(->> (load-ratings \"ua.base\")\n",
    "     (first))"
   ]
  },
  {
   "cell_type": "code",
   "execution_count": 6,
   "metadata": {},
   "outputs": [
    {
     "data": {
      "text/plain": [
       "#'ch7.nb/load-items"
      ]
     },
     "execution_count": 6,
     "metadata": {},
     "output_type": "execute_result"
    }
   ],
   "source": [
    "(defn line->item-tuple\n",
    "    [line]\n",
    "    (let [[id name] (string/split line #\"\\|\")]\n",
    "        (vector (to-long id) name)))\n",
    "\n",
    "(defn load-items\n",
    "    [path]\n",
    "    (with-open [rdr (io/reader (str \"data/ml-100k/\" path))]\n",
    "        (->> (line-seq rdr)\n",
    "             (map line->item-tuple)\n",
    "             (into {}))))"
   ]
  },
  {
   "cell_type": "code",
   "execution_count": 7,
   "metadata": {},
   "outputs": [
    {
     "data": {
      "text/plain": [
       "\"Toy Story (1995)\""
      ]
     },
     "execution_count": 7,
     "metadata": {},
     "output_type": "execute_result"
    }
   ],
   "source": [
    "(-> (load-items \"u.item\")\n",
    "    (get 1))"
   ]
  },
  {
   "cell_type": "markdown",
   "metadata": {},
   "source": [
    "# Recommender Systems\n",
    "\n",
    "## Slope one\n",
    "\n",
    "**Slope One** recommenders are a family of algos, we'll use the weighted version [Original paper](http://lemire.me/fr/abstracts/SDM2005.html).\n",
    "\n",
    "### Difference\n",
    "\n",
    "We have to start by calculating the average difference between every item"
   ]
  },
  {
   "cell_type": "code",
   "execution_count": 8,
   "metadata": {},
   "outputs": [
    {
     "data": {
      "text/plain": [
       "#'ch7.nb/item-differences"
      ]
     },
     "execution_count": 8,
     "metadata": {},
     "output_type": "execute_result"
    }
   ],
   "source": [
    "(defn conj-item-difference\n",
    "    [dict [i j]]\n",
    "    (let [difference (- (:rating j) (:rating i))]\n",
    "        (update-in dict [(:item i) (:item j)] conj difference)))\n",
    "\n",
    "(defn collect-item-differences\n",
    "    [dict items]\n",
    "    (reduce conj-item-difference dict\n",
    "            (for [i items\n",
    "                  j items\n",
    "                  :when (not= i j)]\n",
    "                [i j])))\n",
    "\n",
    "(defn item-differences\n",
    "    [user-ratings]\n",
    "    (reduce collect-item-differences {} user-ratings))"
   ]
  },
  {
   "cell_type": "code",
   "execution_count": 9,
   "metadata": {},
   "outputs": [
    {
     "data": {
      "text/plain": [
       "[893 {558 (-2 4), 453 (-1), 637 (-1), 519 (2), 1244 (0), 1097 (3), 357 (-1 0 3), 716 (1), 275 (1 0), 530 (2), 929 (0), 789 (-2 2 3), 586 (0 0), 410 (1 -2 4), 433 (1), 765 (-1), 521 (4), 451 (0 -2), 291 (1 2), 443 (0 1 4), 798 (-1), 779 (0 0), 249 (0 3), 638 (0), 299 (0 0), 121 (1 0 2 3), 287 (-2 2 0), 65 (-1), 702 (3), 70 (0 0 3 -1), 949 (0 0), 218 (-2), 1070 (4), 812 (0 -1), 62 (1 2), 1185 (0), 774 (1 -2), 475 (0 4), 497 (1 2), 1009 (2), 891 (-2), 164 (0), 1040 (0 -1), 282 (1 1 3 1), 769 (1 0), 799 (1), 273 (0 -1 0 4), 1441 (0 0), 186 (0), 430 (2), 529 (1), 898 (3 -2 -2 -2 1), 370 (-2), 834 (-2), 233 (0 1), 298 (1 4), 188 (1 4), 240 (-1 -1), 110 (-1 0), 982 (0), 620 (1 0), 311 (1 0), 931 (0), 882 (-2 0), 1409 (1), 128 (0 -2), 399 (1), 1178 (0), 989 (-2), 377 (0 -2), 468 (1), 259 (-1 1 1 0 1), 210 (1 0), 229 (1), 153 (0 1), 621 (1), 670 (0), 977 (1 -1 -1), 343 (-2 -2 3 2), 887 (0 2 4), 472 (0 2 0), 7 (1 -1 4), 894 (-2), 59 (1 3), 1234 (-1 -2), 934 (0), 473 (0 1), 1010 (4), 86 (-1 -2 0), 756 (1 0 -1), 830 (-2), 613 (1 1), 491 (1), 154 (-1 2), 20 (-2), 224 (1 4), 355 (0 0), 610 (-1), 806 (2 3), 1212 (-1), 571 (0), 466 (4), 72 (1 1), 888 (-1), 463 (1 2 3), 851 (2), 770 (1), 814 (2), 859 (-2), 58 (0 1 4), 964 (-1), 980 (-2), 1001 (1), 205 (-1), 555 (0), 552 (-1), 60 (1 3), 835 (0), 459 (1), 175 (1), 322 (-2 1 0 0 -1), 510 (2), 662 (2 2), 27 (1 0), 352 (-2 -2), 493 (2), 899 (-2), 416 (0), 777 (-2), 694 (1), 1 (0 0 3), 631 (0 2), 854 (-2 4), 69 (1 1 4), 24 (0 -2 3), 901 (-2), 547 (-2 3), 788 (-2), 385 (1 0), 988 (-2 0), 135 (-2 2 4 -2), 1011 (-3 3), 773 (-2), 752 (-2 3), 354 (1 0 -1 0 3), 884 (-1), 55 (1 3), 568 (1 0 4), 797 (0 2), 688 (-2 0), 763 (2 -1 -2 4), 269 (1 1 -1 3), 1270 (0), 676 (0), 1187 (3), 448 (-2), 527 (0 2 4), 206 (0), 165 (0), 715 (-2 -2), 387 (0 1), 652 (0 2 3), 683 (-2 1 -2 0), 85 (0), 721 (-1), 862 (0), 615 (1), 681 (0 -1 0), 225 (-1), 1180 (1), 865 (2), 39 (0), 805 (-1 1), 1169 (2), 274 (1 -1 0), 88 (0 1), 217 (-2), 682 (3 -2 -1 -2 3 3), 1337 (0), 508 (0 4), 149 (3 -2), 415 (1), 239 (1 1 1), 478 (1), 878 (-2), 157 (0 4 1), 345 (1 3), 1401 (-2), 300 (2 1 1 -2 0 1), 1039 (0 3 2), 4 (1 2 3), 550 (0 1), 204 (1 2), 1381 (0), 470 (1 1), 646 (1), 77 (0), 197 (1 4), 405 (1 0 -1 3), 897 (-2), 776 (-1), 940 (-1), 755 (0 0), 902 (-1 0), 518 (1 4 -2), 232 (0), 260 (-2 3), 823 (0 2 0), 1319 (0), 319 (1 3), 534 (4), 222 (1 0 0 1), 603 (1 4), 1617 (-2), 1226 (3), 293 (4), 95 (1 2 3), 450 (0), 329 (1 -1 0), 144 (0 1 4), 504 (2), 819 (0 -2), 818 (0), 505 (0), 723 (-1), 1071 (3), 1008 (3), 176 (0 4), 863 (1), 471 (-2 3), 349 (-1 0 -2 -1 1), 512 (4), 710 (1), 1058 (1 0), 192 (4), 54 (1 0), 92 (0 4 -2), 221 (4 -1), 141 (-1 -1), 502 (2), 871 (-1 0 -1 -1), 801 (0), 307 (1 1 0 -1 2 0 3), 758 (-2), 290 (0 -2 1), 627 (1), 517 (2), 361 (-2), 264 (0 1 1 1), 137 (2 4), 356 (0 1), 728 (0), 678 (-1 0 1 0 1), 327 (1 0 3), 234 (2 4), 856 (2), 817 (-2), 1017 (3), 353 (-1 1), 15 (4 1), 48 (-1 2 4), 759 (-1), 242 (3 -2 -1 4), 832 (1), 50 (2 2), 917 (1 1), 251 (4), 394 (2 -1), 116 (2 3), 585 (-1 1), 437 (-2), 516 (2), 1062 (-2), 930 (0 -1), 687 (0 -2 2 -1), 848 (2), 995 (-2), 709 (1), 99 (0 1 4), 1469 (0), 540 (0 0), 749 (1 0), 479 (1 3), 890 (1 -2 -2 0), 1531 (1), 630 (1 -1), 916 (3 1), 815 (1 1 2), 281 (1 0 3), 402 (1 2), 669 (-2), 1197 (0), 781 (1 0), 740 (-2), 1440 (0), 1012 (4), 975 (0 3), 429 (2), 458 (2), 21 (0 0), 952 (3), 875 (-2 3), 31 (1), 32 (1 4), 811 (2), 827 (0), 398 (1 -1), 136 (2), 1435 (0), 691 (1 1), 847 (1 4), 825 (1 -2 0), 139 (1), 506 (2), 396 (-2 0), 460 (2), 1281 (2), 483 (1 2 4), 589 (0 4), 581 (-2), 932 (0), 174 (1 4), 578 (1 0), 855 (1), 331 (0 0 0 2), 1176 (-2 1), 363 (0 0 0), 284 (-1 0), 208 (2), 305 (1 3), 796 (0), 708 (-1), 182 (2 4), 657 (1 3), 514 (2 4), 731 (0 1), 619 (0 0), 985 (3), 485 (-1 -2), 193 (2 4 1), 685 (0 0 2 1), 804 (-1), 869 (0), 836 (1), 785 (0 0), 635 (-2), 442 (-2), 1073 (4), 561 (0 -2), 656 (2), 241 (1 0), 314 (-2), 782 (0 1), 226 (1), 235 (-1 2), 1265 (0), 672 (0 -2), 420 (0 1), 418 (0 -1), 262 (1 4), 1016 (2 3), 263 (0 2 -1 0), 304 (-2 1 1), 401 (-2), 673 (0), 40 (-2 -1), 129 (4), 729 (1 0), 1208 (-2), 467 (2 4), 445 (1), 317 (1 2), 1091 (-1), 1028 (0 -1), 294 (1 1 1 -1 -1 -1 2 1), 91 (-1), 1044 (1 0), 810 (1 2), 364 (-1), 880 (0 0 0), 1184 (4), 515 (-1), 412 (0), 553 (0 -1 1), 974 (0), 1376 (-2), 341 (-1), 117 (1 0 0 4), 1000 (0), 1095 (-1), 1183 (0), 665 (-1), 523 (1), 172 (2 2 4), 601 (1), 108 (-1), 358 (-2 0 0), 308 (-2 0), 908 (-2 -2 0), 531 (0 4), 1085 (2 -2), 1239 (0), 223 (1 2 4 0), 419 (1 0), 365 (0 0), 1313 (0), 944 (1), 181 (1 2 2), 417 (0 -1), 1082 (2), 278 (1 -1), 56 (-1 4), 33 (0 2), 13 (2 4), 1043 (0), 867 (2), 22 (1 1 4 2), 380 (-1 1), 257 (1 3), 1061 (0), 338 (0 -1 -2 1), 500 (1), 909 (2), 168 (1 1 4), 833 (1 -1 3), 496 (2), 1129 (4), 347 (1 1 1 -2 2 3), 501 (0 2 3), 596 (1 0), 872 (-2 0), 792 (-2 2), 90 (-1 0), 237 (1 2 3 0), 826 (0 -1 2), 292 (2 0), 109 (0 1 3), 216 (0 3), 191 (0 0 4), 498 (1), 1224 (0), 829 (0), 761 (1 1), 525 (2), 367 (0 0 3), 143 (2 -2), 742 (1 0 3), 178 (1 4), 328 (1 2 0 0 2 0 0 1), 391 (0 0), 990 (2), 167 (1), 36 (0), 1215 (0), 41 (1), 474 (1), 187 (2 4), 551 (-2), 1356 (3), 996 (0), 528 (0), 971 (3), 376 (1), 195 (0 0 3), 889 (0), 316 (2 2), 668 (-2), 428 (2), 303 (-1 1 1 4), 671 (0), 794 (1 1), 1182 (0), 905 (0 0 -1), 560 (0), 565 (-2), 310 (2 2 1 2 1 0 1 0), 366 (1 0), 118 (1 0 1 2), 522 (2 4), 150 (2 4), 886 (2 2), 313 (2 2 1 1 1 2 2 4 2), 384 (0 -1), 567 (-2), 238 (0 4), 846 (-1 1), 962 (-1), 1127 (-1 0), 845 (1 -1 0 3), 196 (1 1 4 1), 162 (1), 393 (0 0), 184 (1 -2 4), 219 (-2), 999 (1), 461 (3), 1032 (0), 89 (0 1 3), 100 (2 -2 2 4), 604 (2), 477 (0 1), 844 (-2 3), 541 (0 -2), 351 (-2 -2), 243 (0 1 0 1 0 -1), 790 (1 -1), 963 (4), 1053 (0 0), 629 (-2), 873 (0 -2), 1377 (2), 122 (-2 3), 43 (0), 1067 (4), 231 (0), 61 (1 3), 654 (2 4), 883 (0), 413 (-2), 29 (1 -1), 784 (-2), 800 (-2), 151 (-2 3), 369 (0), 348 (-1), 575 (-1), 693 (0), 739 (0 1), 1539 (-1), 258 (1 1 1 0 4 0), 250 (1 3), 674 (0), 539 (0 -2), 301 (2 1 -2 0 0), 838 (-2), 424 (-2), 93 (3), 684 (1 2), 951 (0), 1407 (0), 573 (0), 408 (4), 563 (-2), 850 (1), 866 (0 0), 111 (0 2), 997 (-2), 689 (0 -1 1 0), 28 (1 2 3 1), 456 (0), 374 (0), 737 (-1 1), 548 (0), 538 (2 -1 0 -2), 895 (1 1 -2 2 0 2), 411 (-1 -1 1), 134 (-1 4), 1314 (0), 64 (1 2 4), 623 (0), 465 (1), 1228 (0), 816 (-2), 334 (-3 -2 2), 323 (-1 -1 0 2 0 0), 189 (1 4), 280 (1 -1 1 1), 198 (4), 155 (-1), 295 (3), 808 (1 -1), 248 (1 3), 285 (2 4), 507 (-1 -2), 227 (1 2), 724 (0 0), 476 (0 0 -1), 1468 (1), 941 (1), 911 (-1), 853 (-2 4), 494 (1 1), 842 (1 -1), 1105 (-2), 170 (2 4), 51 (1 0 1), 25 (-1 -2), 261 (-2 0 0), 768 (1), 822 (0), 1258 (0 0), 201 (-2 4), 904 (-2), 590 (-1), 778 (0 0 -2), 166 (2), 447 (-1), 252 (0 2), 775 (1 1), 325 (1 -2), 436 (-1), 828 (-2), 813 (-2 3), 1060 (1), 876 (-2 0 -1 0), 228 (0 1), 907 (-2), 306 (0 4), 125 (1 1 0), 276 (2 4 0), 340 (2 -1 4), 148 (1 1 0), 1143 (4), 482 (2 3), 1049 (1), 622 (1), 588 (1 1), 17 (-2 -2), 312 (-2 1), 606 (1), 3 (0 3), 520 (1), 760 (-2), 720 (0 1 1), 286 (3 -2 0 0 4 0), 279 (2), 879 (-2 0 -1 0), 1023 (0), 1264 (3), 663 (2), 1179 (1), 12 (2 2 4), 440 (-2), 332 (1 1 0 0 2 0), 330 (2), 1225 (0), 382 (-2 3), 152 (2), 544 (0 3 -2), 803 (0), 435 (2), 342 (2 1 2 1), 783 (0 0), 2 (1 0), 948 (-2), 66 (0 0), 484 (2 3), 439 (-2), 236 (2), 556 (-2), 373 (1), 142 (1), 727 (0 1), 371 (0), 772 (-2), 444 (1), 570 (2 1), 757 (0), 107 (0), 984 (0), 23 (2 4), 1079 (0), 1168 (0), 230 (0), 625 (1 -1), 1623 (3), 47 (4), 526 (4 1), 180 (2 4), 786 (0), 1166 (2), 1442 (0), 870 (0 0), 659 (1 0), 158 (-2), 991 (-2), 350 (-1 -1 1 3), 1419 (0), 849 (-2), 1120 (0), 644 (0), 881 (-1 0), 127 (2 4), 1315 (1), 675 (2), 1055 (1), 533 (3), 910 (-1), 302 (2 1 0 1 2 4), 564 (-2), 566 (0 2), 821 (0 0), 787 (2 0), 82 (1 -1), 735 (0 4), 492 (2), 771 (0 0), 215 (1 4 1), 97 (1 1 3 2), 704 (0), 277 (0), 926 (1 0), 751 (2 -1 -1 2 1 -1 2 0), 597 (0 0 1), 938 (0), 202 (0 2 4), 68 (1 0), 452 (0), 200 (0), 1142 (4), 868 (2), 11 (0 -2 4 0), 1063 (1), 339 (0 2), 1316 (1), 431 (-1 -2 1), 462 (2), 255 (1 3), 546 (-1 0 0 3), 9 (0 1 0 4), 953 (1), 857 (0), 706 (-2), 1620 (0), 632 (0 -1), 457 (-2 0), 427 (2 4), 145 (0 -1), 5 (0 -2), 733 (2), 1163 (-1), 1165 (0 -2), 1152 (0), 624 (2), 831 (-2 0), 918 (0), 824 (0 0), 289 (-2 -1 3), 925 (0 2 0), 1059 (2), 730 (3), 699 (1), 712 (1), 1076 (0), 414 (2), 839 (-2), 802 (0 -1), 860 (-2), 179 (-1 4), 1514 (4), 344 (-2 0 3), 481 (0), 732 (1 2), 661 (2), 245 (-1 0 0), 378 (1 1), 913 (-2), 906 (-2 0), 658 (-2), 266 (-1 1 0), 324 (3), 793 (2), 1134 (4), 1014 (0 3), 680 (-1 -2 1 0), 446 (-2), 524 (1), 404 (0 2), 1025 (0), 617 (0), 283 (0 3), 572 (1 -1), 1221 (0 0), 705 (1 2 4), 1591 (-2), 1074 (0), 83 (1 -1), 138 (0 -2), 346 (1 -2 1 3), 14 (1 4), 455 (0 3), 265 (1 1 3), 449 (-1 1), 333 (3 1 1 0 4 0), 650 (-1), 639 (0), 569 (1 -1 0), 326 (0 1 0 3 1), 746 (0), 647 (2), 45 (0), 53 (-2), 559 (0 -2), 78 (-1 -2), 924 (1 0), 1119 (0), 912 (-1), 1048 (0 2), 315 (2 2 1 4), 914 (3 -1), 1284 (-1), 1181 (0), 480 (1 0 3), 132 (-1 1 4), 900 (2 3), 26 (0), 766 (1), 123 (1 3), 203 (1 4), 667 (-2), 392 (1 1), 1045 (-1), 577 (1), 807 (-2), 140 (2), 321 (-1 0 -1 -1), 795 (-1), 1446 (2), 441 (-2), 268 (1 -3 1 4), 840 (1 0), 320 (-2 4), 1249 (1), 288 (3 1 0 1 -2 3 0 4), 163 (0), 81 (-1 3), 79 (1 0), 211 (1), 38 (1 0), 173 (2 -1 4), 126 (0), 421 (-1 -1 4), 636 (0 -1), 98 (4), 423 (0 2 4 1), 614 (1), 762 (2 4), 582 (1), 554 (1 -1), 409 (1 -1 0 0), 1210 (0), 124 (2), 747 (1 1 3), 87 (1 2 3), 169 (0 4), 679 (1), 843 (0 2), 160 (1), 400 (1), 767 (-2), 896 (2), 928 (-2), 696 (1), 809 (1), 509 (2), 736 (1 0), 1199 (4), 874 (2), 690 (-1 3 1 1 0), 194 (1 2 3), 1047 (0 0 0), 511 (2), 73 (1 0), 336 (-2 -1 0), 96 (1 1 4), 837 (1), 660 (1), 272 (3 2 1 0 1 4), 488 (0), 903 (0), 386 (1), 270 (2 2 1 0), 576 (0 0), 717 (0 0), 271 (-1 1 -1 0 -2 3 3), 1432 (-2), 395 (0), 403 (0 -1 1), 469 (3 -2), 105 (0), 185 (0 4), 1051 (0), 1275 (2), 253 (0), 612 (1), 628 (1 0 2), 748 (-2 0 -1 1 0 1 0), 209 (0), 147 (2 0 3 0), 655 (0 2 4 1), 1022 (1 4), 750 (-1 1 -1 2 0 4), 852 (-2), 425 (4), 864 (0 -1 1), 67 (0 -2), 602 (1), 318 (0 4 2), 161 (1 2), 651 (1 2), 725 (-1), 1092 (0), 406 (-2), 438 (-2), 780 (1 -2), 71 (0 1 3), 939 (1 2), 877 (-1 0 1), 722 (-1 0), 42 (1 1 4), 919 (4), 80 (0), 885 (-2 1), 1035 (0), 199 (2), 841 (0 -2), 754 (1 0 2), 791 (2), 861 (0), 591 (2 -1 3 0), 744 (2 -2), 37 (-2), 183 (1 4), 1276 (0), 1139 (0), 892 (-2 0 -1 0 -1 0), 432 (1 0), 379 (-2), 212 (2 -2), 94 (1 0), 1434 (-2), 362 (-1 0 1), 8 (0 1 4), 686 (1 2 4 1), 692 (0 1), 764 (-1), 246 (4), 190 (1), 549 (1 0), 922 (1 2), 177 (2), 915 (2), 936 (3), 820 (0 -1 1 2), 49 (1 1), 858 (-2), 1609 (0), 84 (0)}]"
      ]
     },
     "execution_count": 9,
     "metadata": {},
     "output_type": "execute_result"
    }
   ],
   "source": [
    "(->> (load-ratings \"ua.base\")\n",
    "     (group-by :user)\n",
    "     (vals)\n",
    "     (item-differences)\n",
    "     (first))"
   ]
  },
  {
   "cell_type": "code",
   "execution_count": 10,
   "metadata": {},
   "outputs": [
    {
     "name": "stdout",
     "output_type": "stream",
     "text": [
      "893:343 (-2 -2 3 2)\n"
     ]
    }
   ],
   "source": [
    "(let [diffs (->> (load-ratings \"ua.base\")\n",
    "                 (group-by :user)\n",
    "                 (vals)\n",
    "                 (item-differences))]\n",
    "    (println \"893:343\" (get-in diffs [893 343])))"
   ]
  },
  {
   "cell_type": "markdown",
   "metadata": {},
   "source": [
    "To use differences for prediction we have to summarize them into a mean and keep track of the count of ratings"
   ]
  },
  {
   "cell_type": "code",
   "execution_count": 11,
   "metadata": {},
   "outputs": [
    {
     "data": {
      "text/plain": [
       "#'ch7.nb/slope-one-recommender"
      ]
     },
     "execution_count": 11,
     "metadata": {},
     "output_type": "execute_result"
    }
   ],
   "source": [
    "(defn summarize-item-differences\n",
    "    [related-items]\n",
    "    (let [f (fn [differences]\n",
    "                {:mean  (s/mean differences)\n",
    "                 :count (count differences)})]\n",
    "        (map-vals f related-items)))\n",
    "\n",
    "(defn slope-one-recommender\n",
    "    [ratings]\n",
    "    (->> (item-differences ratings)\n",
    "         (map-vals summarize-item-differences)))"
   ]
  },
  {
   "cell_type": "code",
   "execution_count": 12,
   "metadata": {},
   "outputs": [
    {
     "data": {
      "text/plain": [
       "{:mean 0.25, :count 4}"
      ]
     },
     "execution_count": 12,
     "metadata": {},
     "output_type": "execute_result"
    }
   ],
   "source": [
    "(let [recommender (->> (load-ratings \"ua.base\")\n",
    "                       (group-by :user)\n",
    "                       (vals)\n",
    "                       (slope-one-recommender))]\n",
    "    (get-in recommender [893 343]))"
   ]
  },
  {
   "cell_type": "markdown",
   "metadata": {},
   "source": [
    "### Prediction\n",
    "\n",
    "To make predictions we need the matrix of differences we calculated and the users' own previous ratings."
   ]
  },
  {
   "cell_type": "code",
   "execution_count": 13,
   "metadata": {},
   "outputs": [
    {
     "data": {
      "text/plain": [
       "#'ch7.nb/slope-one-recommend"
      ]
     },
     "execution_count": 13,
     "metadata": {},
     "output_type": "execute_result"
    }
   ],
   "source": [
    "(defn candidates\n",
    "    [recommender {:keys [rating item]}]\n",
    "    (->> (get recommender item)\n",
    "         (map (fn [[id {:keys [mean count]}]]\n",
    "                  {:item id\n",
    "                   :rating (+ rating mean)\n",
    "                   :count count}))))\n",
    "\n",
    "(defn weighted-rating\n",
    "    [[id candidates]]\n",
    "    (let [ratings-count (reduce + (map :count candidates))\n",
    "          sum-rating (map #(* (:rating %) (:count %)) candidates)\n",
    "          weighted-rating (/ (reduce + sum-rating) ratings-count)]\n",
    "        {:item id\n",
    "         :rating weighted-rating\n",
    "         :count ratings-count}))\n",
    "\n",
    "(defn slope-one-recommend\n",
    "    [recommender rated top-n]\n",
    "    (let [already-rated (set (map :item rated))\n",
    "          already-rated? (fn [{:keys [id]}]\n",
    "                             (contains? already-rated id))\n",
    "          recommendations (->> (mapcat #(candidates recommender %) rated)\n",
    "                               (group-by :item)\n",
    "                               (map weighted-rating)\n",
    "                               (remove already-rated?)\n",
    "                               (sort-by :rating >))]\n",
    "        (take top-n recommendations)))"
   ]
  },
  {
   "cell_type": "code",
   "execution_count": 14,
   "metadata": {},
   "outputs": [
    {
     "data": {
      "text/plain": [
       "(\"Someone Else's America (1995)\" \"Aiqing wansui (1994)\" \"Great Day in Harlem, A (1994)\" \"Pather Panchali (1955)\" \"Boys, Les (1997)\" \"Saint of Fort Washington, The (1993)\" \"Marlene Dietrich: Shadow and Light (1996) \" \"Anna (1996)\" \"Star Kid (1997)\" \"Santa with Muscles (1996)\")"
      ]
     },
     "execution_count": 14,
     "metadata": {},
     "output_type": "execute_result"
    }
   ],
   "source": [
    "(let [user-ratings (->> (load-ratings \"ua.base\")\n",
    "                        (group-by :user)\n",
    "                        (vals))\n",
    "      user-1 (first user-ratings)\n",
    "      recommender (->> (rest user-ratings)\n",
    "                       (slope-one-recommender))\n",
    "      items (load-items \"u.item\")\n",
    "      item-name (fn [item]\n",
    "                    (get items (:item item)))]\n",
    "    (->> (slope-one-recommend recommender user-1 10)\n",
    "         (map item-name)))"
   ]
  },
  {
   "cell_type": "markdown",
   "metadata": {},
   "source": [
    "## User-based recommender"
   ]
  },
  {
   "cell_type": "code",
   "execution_count": 15,
   "metadata": {},
   "outputs": [
    {
     "data": {
      "text/plain": [
       "#'ch7.nb/load-model"
      ]
     },
     "execution_count": 15,
     "metadata": {},
     "output_type": "execute_result"
    }
   ],
   "source": [
    "(defn load-model\n",
    "    [path]\n",
    "    (-> (io/resource path)\n",
    "        (io/file)\n",
    "        (FileDataModel.)))"
   ]
  },
  {
   "cell_type": "code",
   "execution_count": 16,
   "metadata": {},
   "outputs": [
    {
     "data": {
      "text/plain": [
       "(\"Big Lebowski, The (1998)\" \"Peacemaker, The (1997)\" \"Rainmaker, The (1997)\" \"Game, The (1997)\" \"Cool Hand Luke (1967)\")"
      ]
     },
     "execution_count": 16,
     "metadata": {},
     "output_type": "execute_result"
    }
   ],
   "source": [
    "(let [model (load-model \"ua.base\")\n",
    "      similarity (EuclideanDistanceSimilarity. model)\n",
    "      neighborhood (NearestNUserNeighborhood. 10 similarity\n",
    "                                              model)\n",
    "      recommender (GenericUserBasedRecommender. model\n",
    "                                                neighborhood\n",
    "                                                similarity)\n",
    "      items (load-items \"u.item\")\n",
    "      item-name (fn [id] (get items id))]\n",
    "    (->> (.recommend recommender 1 5)\n",
    "         (map #(item-name (.getItemID %)))))"
   ]
  },
  {
   "cell_type": "markdown",
   "metadata": {},
   "source": [
    "We used the `EuclideanDistanceSimilarity` as a distance metric to consider users' similarity.\n",
    "\n",
    "## KNN\n",
    "\n",
    "The recommender system we built chooses recommendations based on the **K-nearest neighbors**. But to choose the best **K** we have to evaluate our recommender."
   ]
  },
  {
   "cell_type": "code",
   "execution_count": 17,
   "metadata": {},
   "outputs": [
    {
     "data": {
      "text/plain": [
       "#'ch7.nb/recommender-builder"
      ]
     },
     "execution_count": 17,
     "metadata": {},
     "output_type": "execute_result"
    }
   ],
   "source": [
    "(defn recommender-builder [n sim]\n",
    "  (reify RecommenderBuilder\n",
    "    (buildRecommender [this model]\n",
    "      (let [nhood (NearestNUserNeighborhood. n sim model)]\n",
    "        (GenericUserBasedRecommender. model nhood sim)))))"
   ]
  },
  {
   "cell_type": "code",
   "execution_count": 18,
   "metadata": {},
   "outputs": [
    {
     "data": {
      "text/plain": [
       "#'ch7.nb/evaluate-rmse"
      ]
     },
     "execution_count": 18,
     "metadata": {},
     "output_type": "execute_result"
    }
   ],
   "source": [
    "; nil = no custom model builder\n",
    "; 0.7 & 1.0 = training & test\n",
    "(defn evaluate-rmse\n",
    "    [builder model]\n",
    "    (-> (RMSRecommenderEvaluator.)\n",
    "        (.evaluate builder nil model 0.7 1.0)))"
   ]
  },
  {
   "cell_type": "markdown",
   "metadata": {},
   "source": [
    "Now we test the model with $K=10$ and the Euclidean distance"
   ]
  },
  {
   "cell_type": "code",
   "execution_count": 19,
   "metadata": {
    "scrolled": false
   },
   "outputs": [
    {
     "data": {
      "text/plain": [
       "0.3801054995860975"
      ]
     },
     "execution_count": 19,
     "metadata": {},
     "output_type": "execute_result"
    }
   ],
   "source": [
    "(let [model (load-model \"ua.base\")\n",
    "      builder (recommender-builder 10\n",
    "                                   (EuclideanDistanceSimilarity. model))]\n",
    "    (evaluate-rmse builder model))"
   ]
  },
  {
   "cell_type": "markdown",
   "metadata": {},
   "source": [
    "## Other similarity measures\n",
    "\n",
    "### Pearson correlation similarity\n",
    "\n",
    "One of the potential problems of the **Euclidean distance** is that the measure fails to account for users agreeing in relative ratings, but one tends to be more generous. With **Pearson correlation** we look at the correlations between users and ratings."
   ]
  },
  {
   "cell_type": "code",
   "execution_count": 20,
   "metadata": {},
   "outputs": [
    {
     "data": {
      "text/plain": [
       "0.8100096933658371"
      ]
     },
     "execution_count": 20,
     "metadata": {},
     "output_type": "execute_result"
    }
   ],
   "source": [
    "(let [model (load-model \"ua.base\")\n",
    "      builder (recommender-builder 10\n",
    "                                   (PearsonCorrelationSimilarity. model))]\n",
    "    (evaluate-rmse builder model))"
   ]
  },
  {
   "cell_type": "markdown",
   "metadata": {},
   "source": [
    "### Spearman rank similarity\n",
    "\n",
    "Another possible similarity between users, is that they don't give the same ratings, but their ordering is preserved."
   ]
  },
  {
   "cell_type": "code",
   "execution_count": 21,
   "metadata": {},
   "outputs": [
    {
     "data": {
      "text/plain": [
       "0.8986972448889631"
      ]
     },
     "execution_count": 21,
     "metadata": {},
     "output_type": "execute_result"
    }
   ],
   "source": [
    "(let [model (load-model \"ua.base\")\n",
    "      builder (recommender-builder 10\n",
    "                (SpearmanCorrelationSimilarity. model))]\n",
    "    (-> (RMSRecommenderEvaluator.)\n",
    "        (.evaluate builder nil model 0.9 0.1)))"
   ]
  },
  {
   "cell_type": "markdown",
   "metadata": {},
   "source": [
    "## Determining optimum neighborhood size"
   ]
  },
  {
   "cell_type": "code",
   "execution_count": 22,
   "metadata": {},
   "outputs": [
    {
     "name": "stdout",
     "output_type": "stream",
     "text": [
      "1\n",
      "2\n",
      "3\n",
      "4\n",
      "5\n",
      "6\n",
      "7\n",
      "8\n",
      "9\n"
     ]
    },
    {
     "data": {
      "image/png": "[encoded data removed]"
     },
     "execution_count": 22,
     "metadata": {},
     "output_type": "execute_result"
    }
   ],
   "source": [
    "(let [model (load-model \"ua.base\")\n",
    "      sim (EuclideanDistanceSimilarity. model)\n",
    "      ns (range 1 10)\n",
    "      stats (for [n ns]\n",
    "                (let [builder (recommender-builder n sim)]\n",
    "                    (do (println n)\n",
    "                        (evaluate-rmse builder model))))]\n",
    "    (-> (c/scatter-plot ns stats\n",
    "                        :x-label \"Neighborhood size\"\n",
    "                        :y-label \"RMSE\")\n",
    "        (.createBufferedImage 600 400)))"
   ]
  },
  {
   "cell_type": "markdown",
   "metadata": {},
   "source": [
    "## More statistics\n",
    "\n",
    "We can get more stats about the performance of our recommender and decide what's best for our users. The **Information Retrieval statistics (IR stats)** it is like search engine evaluation: a search engine should strive to return as many of the results the user is looking for, without returning useless info. Of course, we use **Precision** and **Recall** to evaluate it.\n",
    "\n",
    "With Mahout we can calculate it with `GenericRecommenderIRStatsEvaluator` which evaluates the performance for each user. We don't split the data into training and test sets, but it works by removing some users' top-rated items."
   ]
  },
  {
   "cell_type": "code",
   "execution_count": 23,
   "metadata": {},
   "outputs": [
    {
     "data": {
      "text/plain": [
       "#'ch7.nb/evaluate-ir"
      ]
     },
     "execution_count": 23,
     "metadata": {},
     "output_type": "execute_result"
    }
   ],
   "source": [
    "(defn evaluate-ir\n",
    "    [builder model]\n",
    "    (-> (GenericRecommenderIRStatsEvaluator.)\n",
    "        (.evaluate builder nil model nil 5\n",
    "                   GenericRecommenderIRStatsEvaluator/CHOOSE_THRESHOLD\n",
    "                   1.0)\n",
    "        (bean)))"
   ]
  },
  {
   "cell_type": "code",
   "execution_count": 28,
   "metadata": {},
   "outputs": [
    {
     "data": {
      "text/plain": [
       "{:class org.apache.mahout.cf.taste.impl.eval.IRStatisticsImpl, :f1Measure 0.12227247160987471, :fallOut 0.0026328522573973866, :normalizedDiscountedCumulativeGain 0.1238618931039463, :precision 0.11675126903553307, :reach 1.0, :recall 0.12834179357021985}"
      ]
     },
     "execution_count": 28,
     "metadata": {},
     "output_type": "execute_result"
    }
   ],
   "source": [
    "(let [model (load-model \"ua.base\")\n",
    "      builder (recommender-builder\n",
    "                  10 (EuclideanDistanceSimilarity. model))]\n",
    "    (evaluate-ir builder model))"
   ]
  },
  {
   "cell_type": "markdown",
   "metadata": {},
   "source": [
    "The **Discounted Cumulative Gain (DCG)** is a measure of performance for recommendation systems based on the graded relevance of the recommended entities. It is $0<DCG<1$ with $1$ as perfect ranking.\n",
    "\n",
    "$$\n",
    "DCG_p=\\sum_{i=1}^{p}\\frac{2^{rel_i}-1}{log_2(i+1)}\n",
    "$$\n",
    "\n",
    "$rel_i$ is the relevance of the result at position $i$ and $p$ is the position in the rank.\n",
    "\n",
    "But, since the search result lists vary in length depending on the query, we can't compare results using **DCG** alone. We can sort the result by their relevance and calculate **DCG** again. This method will give the best possible cumulative discounted gain, so we call it **Ideal Discounted Cumulative Gain (IDCG)**.\n",
    "\n",
    "Taking the ratio of the two $nDCG=\\frac{DCG}{IDCG}$ we get the normalized discounted cumulative gain."
   ]
  },
  {
   "cell_type": "code",
   "execution_count": 33,
   "metadata": {},
   "outputs": [
    {
     "data": {
      "text/plain": [
       "#'ch7.nb/plot-ir"
      ]
     },
     "execution_count": 33,
     "metadata": {},
     "output_type": "execute_result"
    }
   ],
   "source": [
    "(defn plot-ir\n",
    "  [xs stats]\n",
    "  (-> (c/xy-plot xs (map :recall stats)\n",
    "                 :x-label \"Neighborhood size\"\n",
    "                 :y-label \"IR Statistic\"\n",
    "                 :series-label \"Recall\"\n",
    "                 :legend true)\n",
    "      (c/add-lines xs (map :precision stats)\n",
    "                   :series-label \"Precision\")\n",
    "      (c/add-lines xs\n",
    "                   (map :normalizedDiscountedCumulativeGain stats)\n",
    "                   :series-label \"NDCG\")\n",
    "      (.createBufferedImage 600 400)))"
   ]
  },
  {
   "cell_type": "code",
   "execution_count": 34,
   "metadata": {},
   "outputs": [
    {
     "name": "stdout",
     "output_type": "stream",
     "text": [
      "1\n",
      "2\n",
      "3\n",
      "4\n",
      "5\n",
      "6\n",
      "7\n",
      "8\n",
      "9\n"
     ]
    },
    {
     "data": {
      "image/png": "[encoded data removed]"
     },
     "execution_count": 34,
     "metadata": {},
     "output_type": "execute_result"
    }
   ],
   "source": [
    "(let [model (load-model \"ua.base\")\n",
    "      sim (EuclideanDistanceSimilarity. model)\n",
    "      xs (range 1 10)\n",
    "      stats (for [n xs]\n",
    "              (let [builder (recommender-builder n sim)]\n",
    "                (do (println n)\n",
    "                    (evaluate-ir builder model))))]\n",
    "  (plot-ir xs stats))"
   ]
  },
  {
   "cell_type": "markdown",
   "metadata": {},
   "source": [
    "## Boolean preferences\n",
    "\n",
    "We always assumed that the rating a user gives to an item is important. Another way to look at the issue is that the rating isn't so important after all, what we care about is if the user rated it at all. To do it we use **Boolean similarity**."
   ]
  },
  {
   "cell_type": "code",
   "execution_count": 39,
   "metadata": {},
   "outputs": [
    {
     "data": {
      "text/plain": [
       "#'ch7.nb/boolean-recommender-builder"
      ]
     },
     "execution_count": 39,
     "metadata": {},
     "output_type": "execute_result"
    }
   ],
   "source": [
    "(defn to-boolean-preferences\n",
    "  [model]\n",
    "  (-> (GenericBooleanPrefDataModel/toDataMap model)\n",
    "      (GenericBooleanPrefDataModel.)))\n",
    "\n",
    "(defn boolean-recommender-builder [n sim]\n",
    "  (reify RecommenderBuilder\n",
    "    (buildRecommender [this model]\n",
    "      (let [nhood (NearestNUserNeighborhood. n sim model)]\n",
    "        (GenericBooleanPrefUserBasedRecommender. model nhood sim)))))"
   ]
  },
  {
   "cell_type": "markdown",
   "metadata": {},
   "source": [
    "All of this means we have sets with 0s and 1s, so one way to measure similarity is the **Jaccard index**, but **Mahout** implements the **Tanimoto coefficient** so we will use that one (the two are basically the same: the first one applies to sets that may contain or not elements, while the second compares sets with 1s and 0s)."
   ]
  },
  {
   "cell_type": "code",
   "execution_count": 40,
   "metadata": {},
   "outputs": [
    {
     "name": "stdout",
     "output_type": "stream",
     "text": [
      "1\n",
      "2\n",
      "3\n",
      "4\n",
      "5\n",
      "6\n",
      "7\n",
      "8\n",
      "9\n"
     ]
    },
    {
     "data": {
      "image/png": "[encoded data removed]"
     },
     "execution_count": 40,
     "metadata": {},
     "output_type": "execute_result"
    }
   ],
   "source": [
    "(let [model   (to-boolean-preferences (load-model \"ua.base\"))\n",
    "      sim     (TanimotoCoefficientSimilarity. model)\n",
    "      xs      (range 1 10)\n",
    "      stats   (for [n xs]\n",
    "                (let [builder\n",
    "                      (boolean-recommender-builder n sim)]\n",
    "                  (do (println n)\n",
    "                      (evaluate-ir builder model))))]\n",
    "  (plot-ir xs stats))"
   ]
  },
  {
   "cell_type": "markdown",
   "metadata": {},
   "source": [
    "## Implicit vs Explicit\n",
    "\n"
   ]
  }
 ],
 "metadata": {
  "kernelspec": {
   "display_name": "Lein-Clojure",
   "language": "clojure",
   "name": "lein-clojure"
  },
  "language_info": {
   "file_extension": ".clj",
   "mimetype": "text/x-clojure",
   "name": "clojure",
   "version": "1.9.0"
  }
 },
 "nbformat": 4,
 "nbformat_minor": 2
}
